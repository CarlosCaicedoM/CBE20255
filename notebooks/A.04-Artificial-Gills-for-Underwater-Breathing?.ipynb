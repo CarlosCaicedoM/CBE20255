{
 "cells": [
  {
   "cell_type": "markdown",
   "metadata": {},
   "source": [
    "<!--NOTEBOOK_HEADER-->\n",
    "*This notebook contains course material from [CBE20255](https://jckantor.github.io/CBE20255)\n",
    "by Jeffrey Kantor (jeff at nd.edu); the content is available [on Github](https://github.com/jckantor/CBE20255.git).\n",
    "The text is released under the [CC-BY-NC-ND-4.0 license](https://creativecommons.org/licenses/by-nc-nd/4.0/legalcode),\n",
    "and code is released under the [MIT license](https://opensource.org/licenses/MIT).*"
   ]
  },
  {
   "cell_type": "markdown",
   "metadata": {},
   "source": [
    "<!--NAVIGATION-->\n",
    "< [Flameless Cooking](http://nbviewer.jupyter.org/github/jckantor/CBE20255/blob/master/notebooks/A.03-Flameless-Cooking.ipynb) | [Contents](toc.ipynb) | [Projects: Process Systems Analysis](http://nbviewer.jupyter.org/github/jckantor/CBE20255/blob/master/notebooks/B.00-Projects-Process-Systems-Analysis.ipynb) ><p><a href=\"https://colab.research.google.com/github/jckantor/CBE20255/blob/master/notebooks/A.04-Artificial-Gills-for-Underwater-Breathing?.ipynb\"><img align=\"left\" src=\"https://colab.research.google.com/assets/colab-badge.svg\" alt=\"Open in Colab\" title=\"Open in Google Colaboratory\"></a>"
   ]
  },
  {
   "cell_type": "markdown",
   "metadata": {},
   "source": [
    "# Artificial Gills for Underwater Breathing?\n",
    "\n",
    "This project is motivated by a question that appeared [Quora: Why can’t we take oxygen out of the water so divers have an unlimited supply of oxygen? Fish can do it; why haven’t we figured it out yet?](https://www.quora.com/Why-can-t-we-take-oxygen-out-of-the-water-so-divers-have-an-unlimited-supply-of-oxygen-Fish-can-do-it-why-haven-t-we-figured-it-out-yet)\n",
    "\n",
    "Breathing underwater has long been a subject of science fiction. James Bond, for example, was outfitted with a 'rebreather' device in the 1965 movie \"Thunderball\".\n",
    "\n",
    "![James Bond rebreather from Thunderball](https://www.outerplaces.com/images/user_upload/rebreather.jpg)\n",
    "\n",
    "As it happens, there have been many attempts at such a device. These attempts range from serious to fantasy, and perhaps include examples of outright business fraud.  \n",
    "\n",
    "* [Amphibio: A Gill Garmet for our Aquatic Future](http://www.junkamei.com/work#/amphibio/)\n",
    "* [Jeabyun Yeon's Triton](https://www.smithsonianmag.com/innovation/student-claims-have-designed-working-artificial-gills-180949465/)\n",
    "* [Like a fish Underwater Breathing System](http://www.isracast.com/article.aspx?id=63)\n",
    "* [Artificial Human Gills Inpsired by Diving Bettles](https://www.livescience.com/7172-artificial-humans-gills-inspired-diving-beetles.html)\n",
    "* [Sequenced, Hemoglobin Based Artificial Gills](http://archive.rubicon-foundation.org/xmlui/handle/123456789/3675)\n",
    "\n",
    "While these none of these attempts have led to a successful commercial device, the question remains ... what would it take to build a device allowing humans to swim underwater indefinitely without carrying an external oxygen supply?"
   ]
  },
  {
   "cell_type": "markdown",
   "metadata": {},
   "source": [
    "## Exercises"
   ]
  },
  {
   "cell_type": "markdown",
   "metadata": {},
   "source": [
    "### What are the oxygen requirements to sustain underwater activity?\n",
    "\n",
    "For this exercise you will need to find data on that allows you estimate the amount of oxygen necessary to support a meaningful level of human activity underwater. Before jumping to Google, think carefully about what agencies or organizations are likely to have acquired such data, and whether the source of data would be reliable enough for the purposes of developing a commercial device.\n",
    "\n",
    "* How much oxygen is required?\n",
    "* What is the composition requirement of breathing case for underwater use?\n",
    "* What is the oxgyen content of the gas expired by a diver?\n",
    "* What other requirements must be met?  For example, what are the limits on carbon dioxide? How do these requirements change with depth?\n",
    "\n",
    "Use this data to develop specifications for the required oxygen composition and flowrate."
   ]
  },
  {
   "cell_type": "markdown",
   "metadata": {},
   "source": [
    "### How much oxygen is dissolved in seawater?\n",
    "\n",
    "* How can you estimate the amount of oxygen dissolved in water? What chemical data is needed for a first principles estimate?\n",
    "* Is the amount of dissolved oxygen dependent on temperature? On depth?\n",
    "* Can you find literature data to compare your calculations to real world measurements?"
   ]
  },
  {
   "cell_type": "markdown",
   "metadata": {},
   "source": [
    "### What are the liquid handling requirements?\n",
    "\n",
    "* How much seawater has to be processed to produce the required oxygen?\n",
    "* How would you propose to circulate that much water through your device?\n",
    "* How does that compare to large organisms that survice in the water, such as sharks, tuna, and groupers?  What does that say about the feasibility of this project?"
   ]
  },
  {
   "cell_type": "markdown",
   "metadata": {},
   "source": [
    "### Evalute Commercial Membrane Contacting Device\n",
    "\n",
    "* [3M sells supported membrances specifically designed for removing dissolved gases from water](https://www.3m.com/3M/en_US/liquicel-us/). Examine the [3M Liqui-Cel product literature](https://www.3m.com/3M/en_US/liquicel-us/resources/data-sheets/). Would these devices work for this application? \n",
    "* Specifically what model would you select and why?"
   ]
  },
  {
   "cell_type": "markdown",
   "metadata": {},
   "source": [
    "### First Principles Design\n",
    "\n",
    "[Polymeric membrances are generally well suited to gas separation](https://www.sciencedirect.com/science/article/pii/037673889180060J). Sketch a complete flowsheet for the breathing device feature a membrance based oxygen separation device  \n",
    "\n",
    "* What are compositions and flowrates of the gas stream? \n",
    "* What is the composition of the inlet water stream?\n",
    "* Would you use a cocurrent or countercurrent contact?\n",
    "* Using data from the linked article, estimate the surface area required for the separation. How would design the device to provide the required area?\n",
    "* Are there any fundamental limits on the amount of dissolved oxygen that can be extracted from water?"
   ]
  },
  {
   "cell_type": "markdown",
   "metadata": {},
   "source": [
    "### What about carbon dioxide?"
   ]
  },
  {
   "cell_type": "markdown",
   "metadata": {},
   "source": [
    "### Is this a Feasible Technology?\n",
    "\n",
    "Putting all of your work together, what is your opinion regarding the feasibility of a portable oxygen breathing device for underwater swimming?"
   ]
  },
  {
   "cell_type": "markdown",
   "metadata": {},
   "source": [
    "<!--NAVIGATION-->\n",
    "< [Flameless Cooking](http://nbviewer.jupyter.org/github/jckantor/CBE20255/blob/master/notebooks/A.03-Flameless-Cooking.ipynb) | [Contents](toc.ipynb) | [Projects: Process Systems Analysis](http://nbviewer.jupyter.org/github/jckantor/CBE20255/blob/master/notebooks/B.00-Projects-Process-Systems-Analysis.ipynb) ><p><a href=\"https://colab.research.google.com/github/jckantor/CBE20255/blob/master/notebooks/A.04-Artificial-Gills-for-Underwater-Breathing?.ipynb\"><img align=\"left\" src=\"https://colab.research.google.com/assets/colab-badge.svg\" alt=\"Open in Colab\" title=\"Open in Google Colaboratory\"></a>"
   ]
  }
 ],
 "metadata": {
  "kernelspec": {
   "display_name": "Python 3",
   "language": "python",
   "name": "python3"
  },
  "language_info": {
   "codemirror_mode": {
    "name": "ipython",
    "version": 3
   },
   "file_extension": ".py",
   "mimetype": "text/x-python",
   "name": "python",
   "nbconvert_exporter": "python",
   "pygments_lexer": "ipython3",
   "version": "3.7.3"
  }
 },
 "nbformat": 4,
 "nbformat_minor": 2
}
