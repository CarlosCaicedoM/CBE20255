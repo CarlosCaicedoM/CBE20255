{
 "cells": [
  {
   "cell_type": "markdown",
   "metadata": {},
   "source": [
    "<!--COURSE_INFORMATION-->\n",
    "*This notebook contains course material from [CBE 20255 Introduction to Chemical Engineering Analysis](http://jckantor.github.io/CBE20255/) \n",
    "by Jeffrey Kantor (jeff at nd.edu); the content is available [on GitHub](https://github.com/jckantor/CBE20255).\n",
    "The text is released under the [CC-BY-NC-ND-4.0 license](https://creativecommons.org/licenses/by-nc-nd/4.0/legalcode),\n",
    "and code is released under the [MIT license](https://opensource.org/licenses/MIT).*\n"
   ]
  },
  {
   "cell_type": "markdown",
   "metadata": {},
   "source": [
    "<!--NAVIGATION-->\n",
    "< [Raoult's Law for Ideal Mixtures](07.04-Raoult's-Law-for-Ideal-Mixtures.ipynb) | [Contents](index.ipynb) | [Binary Phase Diagrams for Ideal Mixtures](07.06-Binary-Phase-Diagrams-for-Ideal-Mixtures.ipynb) >\n",
    "<p><a href=\"https://colab.research.google.com/github/jckantor/CBE20255/blob/master/notebooks/07.05-Henry's-Law-Constants.ipynb\">\n",
    "<img align=\"left\" src=\"https://colab.research.google.com/assets/colab-badge.svg\" alt=\"Open in Colab\" title=\"Open in Google Colaboratory\"></a>\n"
   ]
  },
  {
   "cell_type": "markdown",
   "metadata": {
    "colab_type": "text",
    "id": "4BpYeoW1Q5Is"
   },
   "source": [
    "# Henry's Law Constants\n",
    "\n",
    "Henry's law provides a simple model for the partial pressure of gases dissolved in water.  For a liquid phase mole fraction $x_i$, the corresponding partial pressure $p_i = y_i P$ is\n",
    "\n",
    "\\begin{equation}\n",
    "y_iP =  H_i(T) x_i\n",
    "\\end{equation}\n",
    "\n",
    "where $H_i(T)$ denotes the Henry's law constant.\n",
    "\n",
    "This notebook provides a calculator to estimate $H_i(T)$ using the correlations specified in [IAPSW G7&-04 Guideline on the Henry's Constant and Vapor-Liquid Distribution Constant for Gases in $H_2O$ and $D_2O$ at High Temperatures](http://www.iapws.org/relguide/HenGuide.html).\n"
   ]
  },
  {
   "cell_type": "markdown",
   "metadata": {
    "colab_type": "text",
    "id": "Re0AxYcmLLRU"
   },
   "source": [
    "## Henry's Law Calculator\n",
    "\n",
    "Run both of the following cells before using the calculator."
   ]
  },
  {
   "cell_type": "code",
   "execution_count": 0,
   "metadata": {
    "colab": {},
    "colab_type": "code",
    "id": "_rTEQ6xIQxtt"
   },
   "outputs": [],
   "source": [
    "!pip install -q iapws"
   ]
  },
  {
   "cell_type": "code",
   "execution_count": 11,
   "metadata": {
    "cellView": "both",
    "colab": {
     "base_uri": "https://localhost:8080/",
     "height": 102
    },
    "colab_type": "code",
    "executionInfo": {
     "elapsed": 446,
     "status": "ok",
     "timestamp": 1542248493592,
     "user": {
      "displayName": "Jeffrey Kantor",
      "photoUrl": "https://lh5.googleusercontent.com/-8zK5aAW5RMQ/AAAAAAAAAAI/AAAAAAAAKB0/kssUQyz8DTQ/s64/photo.jpg",
      "userId": "09038942003589296665"
     },
     "user_tz": 300
    },
    "id": "kCrw1J63SHkS",
    "outputId": "d34e9081-7b3c-44ba-fcab-8a2fc3dc7087"
   },
   "outputs": [
    {
     "name": "stdout",
     "output_type": "stream",
     "text": [
      "Henry's Law Constant:\n",
      "    [MPa] = 165.64\n",
      "    [bar] = 1656.4\n",
      "    [atm] = 1634.8\n",
      "   [psia] = 24025.0\n"
     ]
    }
   ],
   "source": [
    "#@title Henry's Law Constant in Various Units { run: \"auto\", vertical-output: true }\n",
    "Gas = \"CO2\" #@param [\"Ar\", \"CH4\", \"C2H6\", \"CO\", \"CO2\", \"H2\", \"H2S\", \"He\", \"Kr\", \"N2\", \"Ne\", \"O2\", \"SF6\", \"Xe\"]\n",
    "T = 25 #@param {type:\"number\"}\n",
    "\n",
    "from iapws._iapws import _Henry as Henry\n",
    "\n",
    "P_henry = Henry(T + 273.15, Gas, liquid=\"H2O\")\n",
    "print(\"Henry's Law Constant:\")\n",
    "print(\"    [MPa] =\", round(P_henry,2))\n",
    "print(\"    [bar] =\", round(P_henry*10, 1))\n",
    "print(\"    [atm] =\", round(P_henry/0.101325, 1))\n",
    "print(\"   [psia] =\", round(P_henry*14.696/0.101325,0))"
   ]
  },
  {
   "cell_type": "code",
   "execution_count": 0,
   "metadata": {
    "colab": {},
    "colab_type": "code",
    "id": "v7JXpFjbSVaA"
   },
   "outputs": [],
   "source": []
  },
  {
   "cell_type": "markdown",
   "metadata": {},
   "source": [
    "<!--NAVIGATION-->\n",
    "< [Raoult's Law for Ideal Mixtures](07.04-Raoult's-Law-for-Ideal-Mixtures.ipynb) | [Contents](index.ipynb) | [Binary Phase Diagrams for Ideal Mixtures](07.06-Binary-Phase-Diagrams-for-Ideal-Mixtures.ipynb) >\n",
    "<p><a href=\"https://colab.research.google.com/github/jckantor/CBE20255/blob/master/notebooks/07.05-Henry's-Law-Constants.ipynb\">\n",
    "<img align=\"left\" src=\"https://colab.research.google.com/assets/colab-badge.svg\" alt=\"Open in Colab\" title=\"Open in Google Colaboratory\"></a>\n"
   ]
  }
 ],
 "metadata": {
  "colab": {
   "collapsed_sections": [],
   "name": "Henry_Law_Constants.ipynb",
   "provenance": [],
   "version": "0.3.2"
  },
  "kernelspec": {
   "display_name": "Python 3",
   "name": "python3"
  }
 },
 "nbformat": 4,
 "nbformat_minor": 0
}
