{
 "cells": [
  {
   "cell_type": "markdown",
   "metadata": {},
   "source": [
    "<!--COURSE_INFORMATION-->\n",
    "*This notebook contains course material from [CBE 20255 Introduction to Chemical Engineering Analysis](http://jckantor.github.io/CBE20255/) \n",
    "by Jeffrey Kantor (jeff at nd.edu); the content is available [on GitHub](https://github.com/jckantor/CBE20255).\n",
    "The text is released under the [CC-BY-NC-ND-4.0 license](https://creativecommons.org/licenses/by-nc-nd/4.0/legalcode),\n",
    "and code is released under the [MIT license](https://opensource.org/licenses/MIT).*\n"
   ]
  },
  {
   "cell_type": "markdown",
   "metadata": {},
   "source": [
    "<!--NAVIGATION-->\n",
    "< [Energy Balances](08.00-Energy-Balances.ipynb) | [Contents](index.ipynb) | [Adiabatic Flame Temperature](08.06-Adiabatic-Flame-Temperature.ipynb) >\n",
    "<p><a href=\"https://colab.research.google.com/github/jckantor/CBE20255/blob/master/notebooks/08.03-Basic-Energy-Calculations.ipynb\">\n",
    "<img align=\"left\" src=\"https://colab.research.google.com/assets/colab-badge.svg\" alt=\"Open in Colab\" title=\"Open in Google Colaboratory\"></a>\n"
   ]
  },
  {
   "cell_type": "markdown",
   "metadata": {
    "colab_type": "text",
    "id": "pw65NyNvXiV-"
   },
   "source": [
    "# Basic Energy Computations"
   ]
  },
  {
   "cell_type": "markdown",
   "metadata": {
    "colab_type": "text",
    "id": "g8TFZSxmXmVm"
   },
   "source": [
    "Internal energy ($U$) and enthalpy ($H = U + PV$) are thermodynamic state variables. We can use this property to compute changes in internal energy or enthalpy due to changes in pressure, temperature, phase, composition, and mixing/solution. The following table presents basic formulas for these calculations.\n",
    "\n",
    "\n",
    "| Change in | $\\Delta\\hat{H}=\\Delta\\hat{U} + P\\Delta\\hat{V}$ | $\\Delta\\hat{U}$ | Comments |\n",
    "| :--- | :--- | :--- | :--- |\n",
    "| Pressure | ~ 0 (gas) <br> ~$\\hat{V}\\Delta P$ (solid or liquid) | ~ 0 | Generally neglected except for large pressure changes.\n",
    "| Temperature | $\\int_{T_1}^{T_2} C_p(T) dT$ <br><br>$\\approx \\bar{C}_p(T_2 - T_1)$ |  $\\int_{T_1}^{T_2} C_v(T)dT$<br><br>$\\approx \\bar{C}_v(T_2 - T_1)$| Expressions available for $C_p(T)$ <br> $C_p \\approx C_v + R$ (gases) <br> $C_p \\approx C_v$ (liquids and solids) |\n",
    "| Phase | $\\Delta\\hat{H}_{vap}$ (liquid to vapor) <br> $\\Delta\\hat{H}_{m}$ (solid to liquid) | $\\Delta\\hat{U}_{vap}\\approx\\Delta\\hat{H}_{vap}-RT_b$ <br> $\\Delta\\hat{U}_m\\approx\\Delta\\hat{H}_m$ | |\n",
    "| Composition due <br> to Reaction | $\\Delta\\hat{H}^\\circ_r =\\sum_i \\nu_i \\Delta\\hat{H}^\\circ_{f,i}$ <br> $\\Delta\\hat{H}^\\circ_r = -\\sum_i \\nu_i \\Delta\\hat{H}^\\circ_{c,i}$ | $\\Delta\\hat{U}_r \\approx \\Delta\\hat{H}_r - RT \\Delta n_r$ <br> $\\Delta\\hat{U}_r \\approx \\Delta\\hat{H}_r$ (solid or liquid) |  $\\Delta n_r$ is the cange in moles due to reaction<br>Standard conditions are 25$^\\circ$C and 1 atm. <br> Be sure all data uses same standard conditions.|\n",
    "| Composition due <br> to Mixing/Sol'n | $\\Delta\\hat{H}_{soln}$ <br> $\\Delta\\hat{H}_{mix}$ | $\\Delta\\hat{U}_{soln} \\approx \\Delta\\hat{H}_{soln}$ <br> $\\Delta\\hat{U}_{mix} \\approx \\Delta\\hat{H}_{mix}$ | Important for non-ideal mixtures. <br> Typical units are per mole of solute, not solution. |\n",
    "| | &nbsp;&nbsp;&nbsp;&nbsp;&nbsp;&nbsp;&nbsp;&nbsp;&nbsp;&nbsp;&nbsp;&nbsp;&nbsp;&nbsp;&nbsp;&nbsp;&nbsp;&nbsp;&nbsp;&nbsp;&nbsp;&nbsp;&nbsp;&nbsp;&nbsp;&nbsp;&nbsp;&nbsp;&nbsp;&nbsp;&nbsp;&nbsp;&nbsp;&nbsp;&nbsp;&nbsp;&nbsp;&nbsp;&nbsp;&nbsp;&nbsp;&nbsp;&nbsp;&nbsp;&nbsp;&nbsp;&nbsp;&nbsp;&nbsp;&nbsp; | &nbsp;&nbsp;&nbsp;&nbsp;&nbsp;&nbsp;&nbsp;&nbsp;&nbsp;&nbsp;&nbsp;&nbsp;&nbsp;&nbsp;&nbsp;&nbsp;&nbsp;&nbsp;&nbsp;&nbsp;&nbsp;&nbsp;&nbsp;&nbsp;&nbsp;&nbsp;&nbsp;&nbsp;&nbsp;&nbsp;&nbsp;&nbsp;&nbsp;&nbsp;&nbsp;&nbsp;&nbsp;&nbsp;&nbsp;&nbsp;&nbsp;&nbsp;&nbsp;&nbsp;&nbsp;&nbsp;&nbsp;&nbsp;&nbsp;&nbsp; |"
   ]
  },
  {
   "cell_type": "markdown",
   "metadata": {
    "colab_type": "text",
    "id": "EzN7g0dxtmWe"
   },
   "source": [
    "## Example: Pumping a Fluid \n",
    "\n",
    "For a particular fire-fighting situation, it is determined that 1,250 gpm is required. The fire hydrant will supply sufficient water at a pressure of 35 psig. A pressure of 180 psig is needed to reach the top of the 212 foot bulding.  What size engine (in Hp) is required to power the fire pump?"
   ]
  },
  {
   "cell_type": "code",
   "execution_count": 0,
   "metadata": {
    "colab": {
     "base_uri": "https://localhost:8080/",
     "height": 51
    },
    "colab_type": "code",
    "executionInfo": {
     "elapsed": 303,
     "status": "ok",
     "timestamp": 1542579341053,
     "user": {
      "displayName": "Jeffrey Kantor",
      "photoUrl": "https://lh5.googleusercontent.com/-8zK5aAW5RMQ/AAAAAAAAAAI/AAAAAAAAKB0/kssUQyz8DTQ/s64/photo.jpg",
      "userId": "09038942003589296665"
     },
     "user_tz": 300
    },
    "id": "iBIZ8l6SXatb",
    "outputId": "ac5073c4-796b-42a0-f55d-562d015ce364"
   },
   "outputs": [
    {
     "name": "stdout",
     "output_type": "stream",
     "text": [
      "fire pump requirement [watts] = 78841.96681903958\n",
      "fire pump requirement [hp] = 105.68628259924876\n"
     ]
    }
   ],
   "source": [
    "Vdot = 1250/264.172/60           # flow in m**3/s\n",
    "dP = (180 - 35)*101325/14.696    # pressure change in pascals (N/m**2)\n",
    "\n",
    "P = Vdot*dP                      # power in N-m/sec = watts\n",
    "print(\"fire pump requirement [watts] =\", P)\n",
    "print(\"fire pump requirement [hp] =\", P/746)"
   ]
  },
  {
   "cell_type": "markdown",
   "metadata": {
    "colab_type": "text",
    "id": "HkmliWRIGHQM"
   },
   "source": [
    "## Example: Phenol\n",
    "\n",
    "Solid phenol at 25°C and 1 atm is converted to phenol vapor at 300°C and 3 atm. How much heat will be required?"
   ]
  },
  {
   "cell_type": "code",
   "execution_count": 0,
   "metadata": {
    "colab": {},
    "colab_type": "code",
    "id": "ki1iR8JT5FA7"
   },
   "outputs": [],
   "source": []
  },
  {
   "cell_type": "markdown",
   "metadata": {},
   "source": [
    "<!--NAVIGATION-->\n",
    "< [Energy Balances](08.00-Energy-Balances.ipynb) | [Contents](index.ipynb) | [Adiabatic Flame Temperature](08.06-Adiabatic-Flame-Temperature.ipynb) >\n",
    "<p><a href=\"https://colab.research.google.com/github/jckantor/CBE20255/blob/master/notebooks/08.03-Basic-Energy-Calculations.ipynb\">\n",
    "<img align=\"left\" src=\"https://colab.research.google.com/assets/colab-badge.svg\" alt=\"Open in Colab\" title=\"Open in Google Colaboratory\"></a>\n"
   ]
  }
 ],
 "metadata": {
  "colab": {
   "name": "Basic_Energy_Calculations.ipynb",
   "provenance": [],
   "version": "0.3.2"
  },
  "kernelspec": {
   "display_name": "Python 3",
   "name": "python3"
  }
 },
 "nbformat": 4,
 "nbformat_minor": 0
}
