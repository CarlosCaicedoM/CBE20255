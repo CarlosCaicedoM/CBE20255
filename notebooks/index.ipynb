{
 "cells": [
  {
   "cell_type": "markdown",
   "metadata": {},
   "source": [
    "# [Introduction to Chemical Engineering Analysis](http://jckantor.github.io/CBE20255/)\n",
    "\n",
    "## Table of Contents\n",
    "\n",
    "### [Getting Started](http://nbviewer.jupyter.org/github/jckantor/CBE30338/blob/master/notebooks/00.00-Getting-Started.ipynb)\n",
    "- [Getting Started with Jupyter Notebooks, Python, and Google Colaboratory](http://nbviewer.jupyter.org/github/jckantor/CBE30338/blob/master/notebooks/00.01-Getting-Started-with-Jupyter-Notebooks-and-Python.ipynb)\n",
    "\n",
    "### [Chapter 1. Units, Quantities, and Engineering Calculations](http://nbviewer.jupyter.org/github/jckantor/CBE30338/blob/master/notebooks/01.00-Units-Quantities-and-Engineering-Calculations.ipynb)\n",
    "\n",
    "### [Chapter 2. Stoichiometry](http://nbviewer.jupyter.org/github/jckantor/CBE30338/blob/master/notebooks/02.00-Stoichiometry.ipynb)\n",
    "\n",
    "### [Chapter 3. Process Flows and Balances](http://nbviewer.jupyter.org/github/jckantor/CBE30338/blob/master/notebooks/03.00-Process-Flows-and-Balances.ipynb)\n",
    "\n",
    "### [Chapter 4. Material Balances](http://nbviewer.jupyter.org/github/jckantor/CBE30338/blob/master/notebooks/04.00-Material-Balances.ipynb)\n",
    "\n",
    "### [Chapter 5. Reactors](http://nbviewer.jupyter.org/github/jckantor/CBE30338/blob/master/notebooks/05.00-Reactors.ipynb)\n",
    "\n",
    "### [Chapter 6. Vapors and Gases](http://nbviewer.jupyter.org/github/jckantor/CBE30338/blob/master/notebooks/06.00-Vapors-and-Gases.ipynb)\n",
    "\n",
    "### [Chapter 7. Vapor/Liquid Equilibrium](http://nbviewer.jupyter.org/github/jckantor/CBE30338/blob/master/notebooks/07.00-Vapor-Liquid-Equilibrium.ipynb)\n",
    "\n",
    "### [Chapter 8. Energy Balances](http://nbviewer.jupyter.org/github/jckantor/CBE30338/blob/master/notebooks/08.00-Energy-Balances.ipynb)\n",
    "\n",
    "### [Appendix A. Products: Product Design and Analysis](http://nbviewer.jupyter.org/github/jckantor/CBE30338/blob/master/notebooks/A.00-Projects-Product-Design-and-Analysis.ipynb)\n",
    "\n",
    "### [Appendix B. Projects: Process Systems Analysis](http://nbviewer.jupyter.org/github/jckantor/CBE30338/blob/master/notebooks/B.00-Projects-Process-Systems-Analysis.ipynb)"
   ]
  }
 ],
 "metadata": {},
 "nbformat": 4,
 "nbformat_minor": 2
}
