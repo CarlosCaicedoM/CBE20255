{
 "cells": [
  {
   "cell_type": "markdown",
   "metadata": {},
   "source": [
    "<!--NOTEBOOK_HEADER-->\n",
    "*This notebook contains course material from [CBE 20255 Introduction to Chemical Engineering Analysis](http://jckantor.github.io/CBE20255/) \n",
    "by Jeffrey Kantor (jeff at nd.edu); the content is available [on GitHub](https://github.com/jckantor/CBE20255).\n",
    "The text is released under the [CC-BY-NC-ND-4.0 license](https://creativecommons.org/licenses/by-nc-nd/4.0/legalcode),\n",
    "and code is released under the [MIT license](https://opensource.org/licenses/MIT).*\n"
   ]
  },
  {
   "cell_type": "markdown",
   "metadata": {},
   "source": [
    "<!--NAVIGATION-->\n",
    "< [Artificial Gills for Underwater Breathing?](http://nbviewer.jupyter.org/github/jckantor/CBE20255/blob/master/notebooks/A.04-Artificial-Gills-for-Underwater-Breathing?.ipynb) | [Contents](toc.ipynb) | [West Virginia Chemical Spill](http://nbviewer.jupyter.org/github/jckantor/CBE20255/blob/master/notebooks/B.01-West-Virginia-Chemical-Spill.ipynb) ><p><a href=\"https://colab.research.google.com/github/jckantor/CBE20255/blob/master/notebooks/B.00-Projects-Process-Systems-Analysis.ipynb\"><img align=\"left\" src=\"https://colab.research.google.com/assets/colab-badge.svg\" alt=\"Open in Colab\" title=\"Open in Google Colaboratory\"></a>"
   ]
  },
  {
   "cell_type": "markdown",
   "metadata": {},
   "source": [
    "# Projects: Process Systems Analysis"
   ]
  },
  {
   "cell_type": "markdown",
   "metadata": {},
   "source": [
    "<!--NAVIGATION-->\n",
    "< [Artificial Gills for Underwater Breathing?](http://nbviewer.jupyter.org/github/jckantor/CBE20255/blob/master/notebooks/A.04-Artificial-Gills-for-Underwater-Breathing?.ipynb) | [Contents](toc.ipynb) | [West Virginia Chemical Spill](http://nbviewer.jupyter.org/github/jckantor/CBE20255/blob/master/notebooks/B.01-West-Virginia-Chemical-Spill.ipynb) ><p><a href=\"https://colab.research.google.com/github/jckantor/CBE20255/blob/master/notebooks/B.00-Projects-Process-Systems-Analysis.ipynb\"><img align=\"left\" src=\"https://colab.research.google.com/assets/colab-badge.svg\" alt=\"Open in Colab\" title=\"Open in Google Colaboratory\"></a>"
   ]
  }
 ],
 "metadata": {
  "kernelspec": {
   "display_name": "Python 3",
   "language": "python",
   "name": "python3"
  },
  "language_info": {
   "codemirror_mode": {
    "name": "ipython",
    "version": 3
   },
   "file_extension": ".py",
   "mimetype": "text/x-python",
   "name": "python",
   "nbconvert_exporter": "python",
   "pygments_lexer": "ipython3",
   "version": "3.7.3"
  }
 },
 "nbformat": 4,
 "nbformat_minor": 2
}
