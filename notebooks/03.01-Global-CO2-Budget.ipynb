{
 "cells": [
  {
   "cell_type": "markdown",
   "metadata": {},
   "source": [
    "<!--COURSE_INFORMATION-->\n",
    "*This notebook contains course material from [CBE 20255 Introduction to Chemical Engineering Analysis](http://jckantor.github.io/CBE20255/) \n",
    "by Jeffrey Kantor (jeff at nd.edu); the content is available [on GitHub](https://github.com/jckantor/CBE20255).\n",
    "The text is released under the [CC-BY-NC-ND-4.0 license](https://creativecommons.org/licenses/by-nc-nd/4.0/legalcode),\n",
    "and code is released under the [MIT license](https://opensource.org/licenses/MIT).*\n"
   ]
  },
  {
   "cell_type": "markdown",
   "metadata": {},
   "source": [
    "<!--NAVIGATION-->\n",
    "< [Global CO<sub>2</sub> Budget](03.01-Global-CO2-Budget-2.ipynb) | [Contents](index.ipynb) | [$CO_2$ Production by Automobiles](03.02-CO2-Production-by-Automobiles.ipynb) >\n",
    "<p><a href=\"https://colab.research.google.com/github/jckantor/CBE20255/blob/master/notebooks/03.01-Global-CO2-Budget.ipynb\">\n",
    "<img align=\"left\" src=\"https://colab.research.google.com/assets/colab-badge.svg\" alt=\"Open in Colab\" title=\"Open in Google Colaboratory\"></a>\n"
   ]
  },
  {
   "cell_type": "markdown",
   "metadata": {
    "colab_type": "text",
    "id": "view-in-github"
   },
   "source": [
    "[![Open In Colab](https://colab.research.google.com/assets/colab-badge.svg)](https://colab.research.google.com/github/jckantor/CBE20255/blob/master/notebooks/Global_CO2_Budget.ipynb)"
   ]
  },
  {
   "cell_type": "markdown",
   "metadata": {
    "colab_type": "text",
    "id": "m5jzNcaMcDIL"
   },
   "source": [
    "# Global CO<sub>2</sub> Budget\n",
    "\n",
    "by Jeffrey Kantor  (jeff at nd.edu). The latest version of this notebook is available at [https://github.com/jckantor/CBE20255](https://github.com/jckantor/CBE20255). \n",
    "\n",
    "### Summary\n",
    "\n",
    "This [Jupyter notebook](http://jupyter.org/notebook.html) provides an analysis of global CO<sub>2</sub> emissions go by solving a mass balance."
   ]
  },
  {
   "cell_type": "markdown",
   "metadata": {
    "colab_type": "text",
    "id": "t4lKF0WBcDIP"
   },
   "source": [
    "## Problem Statement\n",
    "\n",
    "The total global emissons of CO<sub>2</sub> is estimated by the [Netherlands Environmental Assessment Agency](http://www.pbl.nl/en/publications/trends-in-global-co2-emissions-2013-report) to be 34.5 billion metric tons from all sources, including fossil fuels, cement production, and land use changes. [As measured by NOAA](http://www.esrl.noaa.gov/gmd/ccgg/trends/global.html), in recent years the atmospheric concentration of CO<sub>2</sub> is increasing at an annual rate of about 2.4 ppmv (parts per million by volume).\n",
    "\n",
    "<img src = \"http://www.esrl.noaa.gov/gmd/webdata/ccgg/trends/co2_trend_gl.png\" style=\"align:center;height:350px;margin-top:0px;margin-bottom:0px\">\n",
    "\n",
    "Assuming these numbers are accurate and that the atmosphere is well mixed, what fraction of global CO<sub>2</sub> emissions are being retained in the atmosphere?"
   ]
  },
  {
   "cell_type": "markdown",
   "metadata": {
    "colab_type": "text",
    "id": "ivgLNbWFcDIR"
   },
   "source": [
    "## Solution\n",
    "\n",
    "This problem requires us to perform a material balance for CO<sub>2</sub> in the atmosphere. We'll perform the using a 10 step approach outlined in the textbook.\n",
    "\n",
    "### Step 1. Draw a diagram.\n",
    "\n",
    "<img src=\"https://raw.github.com/jckantor/CBE20255/master/images/Global_CO2.png\" width=400px>\n",
    "\n",
    "### Step 2. Define the system of interest.\n",
    "\n",
    "The system of interest is the global atmosphere which we assume is well mixed and of uniform composition.\n",
    "\n",
    "### Step 3. Choose components and define stream variables.\n",
    "\n",
    "The chemical component to model is CO<sub>2</sub>. The stream variables are the mass flowrates of CO<aub>2</sub> into and out of the atmosphere.\n",
    "\n",
    "### Step 4. Convert all units to consistent units of mass or moles.\n",
    "\n",
    "This problem could be done on either a molar or mass basis. We'll arbitrarily choose to do this in mass units of kg/year. First we convert global emissions to kg/year."
   ]
  },
  {
   "cell_type": "code",
   "execution_count": 0,
   "metadata": {
    "colab": {},
    "colab_type": "code",
    "id": "ddVe7toLcDIS"
   },
   "outputs": [],
   "source": [
    "%matplotlib inline\n",
    "from numpy import *"
   ]
  },
  {
   "cell_type": "code",
   "execution_count": 0,
   "metadata": {
    "colab": {
     "base_uri": "https://localhost:8080/",
     "height": 34
    },
    "colab_type": "code",
    "id": "Jtkuum1tcDIX",
    "outputId": "3028fd04-65e7-42fc-9c9d-e4e094fa4eab"
   },
   "outputs": [
    {
     "name": "stdout",
     "output_type": "stream",
     "text": [
      "Global CO2 emissions = 3.45e+13 kg/yr\n"
     ]
    }
   ],
   "source": [
    "mCO2_in = 34.5e9            # inflow, metric tonnes per year\n",
    "mCO2_in = mCO2_in*1000      # inflow, kg per year\n",
    "print(\"Global CO2 emissions = {:8.3g} kg/yr\".format(mCO2_in))"
   ]
  },
  {
   "cell_type": "markdown",
   "metadata": {
    "colab_type": "text",
    "id": "-hlOiLiscDIc"
   },
   "source": [
    "The rate of accumulation is given as ppm by volume per year. For ideal gases, volume fraction is equivalent to mole fraction. We need to convert the mole fraction, which is the ratio of kg-moles of CO<sub>2</sub> to kg-moles of air, to mass fraction which has units of kg of CO<sub>2</sub> to kg of air per year."
   ]
  },
  {
   "cell_type": "code",
   "execution_count": 0,
   "metadata": {
    "colab": {
     "base_uri": "https://localhost:8080/",
     "height": 34
    },
    "colab_type": "code",
    "id": "_8JCWNtpcDIf",
    "outputId": "818fd8cd-de71-4f62-d995-255f004199d9"
   },
   "outputs": [
    {
     "name": "stdout",
     "output_type": "stream",
     "text": [
      "Accumulation Rate of CO2 = 3.65e-06 kg CO2/kg air\n"
     ]
    }
   ],
   "source": [
    "nCO2_accum = 2.4e-6                   # accumulation, kg-mol CO2/kg-mol air/yr\n",
    "\n",
    "mwAir = 28.97                         # kg air/kg-mol air\n",
    "mwCO2 = 44.01                         # kg CO2/kg-mol CO2\n",
    "\n",
    "wCO2_accum = nCO2_accum*mwCO2/mwAir   # kg CO2/kg air/yr\n",
    "\n",
    "print(\"Accumulation Rate of CO2 = {:8.3g} kg CO2/kg air\".format(wCO2_accum))"
   ]
  },
  {
   "cell_type": "markdown",
   "metadata": {
    "colab_type": "text",
    "id": "awyCUo1ccDIk"
   },
   "source": [
    "### Step 5. Define a basis.\n",
    "\n",
    "The basis for the calculation are flows and change in one year. No additional work is required.\n",
    "\n",
    "### Step 6. Define system variables.\n",
    "\n",
    "The system variable is the rate of accumulation of CO<sub>2</sub> in kg CO2/year. We need to convert from change in concentration per year to change in total mass per year. The first step is to estimate the total mass of air."
   ]
  },
  {
   "cell_type": "code",
   "execution_count": 0,
   "metadata": {
    "colab": {
     "base_uri": "https://localhost:8080/",
     "height": 34
    },
    "colab_type": "code",
    "id": "XwdWUx2gcDIl",
    "outputId": "0c384fcd-2b2a-492c-d5c7-368cc846a6e9"
   },
   "outputs": [
    {
     "name": "stdout",
     "output_type": "stream",
     "text": [
      "Estimated mass of the atmosphere = 5.27e+18 kg\n"
     ]
    }
   ],
   "source": [
    "# Earth Radius in meters\n",
    "R = 6371000       # m\n",
    "\n",
    "# Earth Area in square meters\n",
    "A = 4*pi*R**2     # m**2\n",
    "\n",
    "# Mass of the atmosphere in kg\n",
    "g = 9.81          # N/kg\n",
    "P = 101325        # N/m**2\n",
    "mAir = A*P/g      # kg\n",
    "\n",
    "print(\"Estimated mass of the atmosphere = {:8.3g} kg\".format(mAir))"
   ]
  },
  {
   "cell_type": "markdown",
   "metadata": {
    "colab_type": "text",
    "id": "0sZn7ReucDIo"
   },
   "source": [
    "To get the rate of change of total CO<sub>2</sub>, multiply the total mass of by the rate of change of mass fraction of CO<sub>2</sub>."
   ]
  },
  {
   "cell_type": "code",
   "execution_count": 0,
   "metadata": {
    "colab": {
     "base_uri": "https://localhost:8080/",
     "height": 34
    },
    "colab_type": "code",
    "id": "Tab-bWGNcDIq",
    "outputId": "2e798644-a5d9-4325-99a4-27bd4ff5193b"
   },
   "outputs": [
    {
     "name": "stdout",
     "output_type": "stream",
     "text": [
      "Change in CO2 = 1.92e+13 kg CO2/year\n"
     ]
    }
   ],
   "source": [
    "mCO2_accum = wCO2_accum*mAir     # kg CO2/year\n",
    "\n",
    "print(\"Change in CO2 = {:8.3g} kg CO2/year\".format(mCO2_accum))"
   ]
  },
  {
   "cell_type": "markdown",
   "metadata": {
    "colab_type": "text",
    "id": "MqabDRfCcDIu"
   },
   "source": [
    "### Step 7. List specifications\n",
    "\n",
    "The inflow and rate of change of CO<sub>2</sub> are specified, and calculated above.\n",
    "\n",
    "### Step 8. Write material balance equations for each species.\n",
    "\n",
    "$$\\mbox{Accumulation} = \\mbox{Inflow} - \\mbox{Outflow} + \\underbrace{\\mbox{Generation}}_{=0} - \\underbrace{\\mbox{Consumption}}_{=0}$$\n",
    "\n",
    "### Step 9. Solve material balance equations.\n",
    "\n",
    "$$\\mbox{Outflow} = \\mbox{Inflow} - \\mbox{Accumulation}$$"
   ]
  },
  {
   "cell_type": "code",
   "execution_count": 0,
   "metadata": {
    "colab": {
     "base_uri": "https://localhost:8080/",
     "height": 34
    },
    "colab_type": "code",
    "id": "k_0XyUbpcDIw",
    "outputId": "4eaa2f6e-59b6-4135-f38a-ad9761bc868f"
   },
   "outputs": [
    {
     "name": "stdout",
     "output_type": "stream",
     "text": [
      "Global CO2 outflow = 1.53e+13 kg CO2/yr\n"
     ]
    }
   ],
   "source": [
    "mCO2_out = mCO2_in - mCO2_accum\n",
    "\n",
    "print(\"Global CO2 outflow = {:8.3g} kg CO2/yr\".format(mCO2_out))"
   ]
  },
  {
   "cell_type": "markdown",
   "metadata": {
    "colab_type": "text",
    "id": "mCTpEsE1cDI0"
   },
   "source": [
    "### Step 10. Check your work.\n",
    "\n",
    "Fraction retained in the atmosphere"
   ]
  },
  {
   "cell_type": "code",
   "execution_count": 0,
   "metadata": {
    "colab": {
     "base_uri": "https://localhost:8080/",
     "height": 34
    },
    "colab_type": "code",
    "id": "gHLzt1iXcDI1",
    "outputId": "eaf685b4-80bb-497d-f573-9672836a405e"
   },
   "outputs": [
    {
     "name": "stdout",
     "output_type": "stream",
     "text": [
      "Fraction of CO2 retained in the atmosphere = 0.56 \n"
     ]
    }
   ],
   "source": [
    "fCO2 = mCO2_accum/mCO2_in\n",
    "print(\"Fraction of CO2 retained in the atmosphere = {:<.2g} \".format(fCO2))"
   ]
  },
  {
   "cell_type": "code",
   "execution_count": 0,
   "metadata": {
    "colab": {},
    "colab_type": "code",
    "id": "CKU4-dOtcDI5"
   },
   "outputs": [],
   "source": []
  },
  {
   "cell_type": "markdown",
   "metadata": {},
   "source": [
    "<!--NAVIGATION-->\n",
    "< [Global CO<sub>2</sub> Budget](03.01-Global-CO2-Budget-2.ipynb) | [Contents](index.ipynb) | [$CO_2$ Production by Automobiles](03.02-CO2-Production-by-Automobiles.ipynb) >\n",
    "<p><a href=\"https://colab.research.google.com/github/jckantor/CBE20255/blob/master/notebooks/03.01-Global-CO2-Budget.ipynb\">\n",
    "<img align=\"left\" src=\"https://colab.research.google.com/assets/colab-badge.svg\" alt=\"Open in Colab\" title=\"Open in Google Colaboratory\"></a>\n"
   ]
  }
 ],
 "metadata": {
  "colab": {
   "include_colab_link": true,
   "name": "Copy of Global CO2 Budget.ipynb",
   "provenance": [],
   "version": "0.3.2"
  },
  "kernelspec": {
   "display_name": "Python [conda root]",
   "language": "python",
   "name": "conda-root-py"
  }
 },
 "nbformat": 4,
 "nbformat_minor": 0
}
