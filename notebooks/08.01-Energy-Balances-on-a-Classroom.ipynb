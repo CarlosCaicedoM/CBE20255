{
 "cells": [
  {
   "cell_type": "markdown",
   "metadata": {},
   "source": [
    "<!--COURSE_INFORMATION-->\n",
    "\n",
    "*This notebook contains course material from [CBE 20255 Introduction to Chemical Engineering Analysis](http://jckantor.github.io/CBE20255/) \n",
    "by Jeffrey Kantor (jeff at nd.edu); the content is available [on GitHub](https://github.com/jckantor/CBE20255).\n",
    "The text is released under the [CC-BY-NC-ND-4.0 license](https://creativecommons.org/licenses/by-nc-nd/4.0/legalcode),\n",
    "and code is released under the [MIT license](https://opensource.org/licenses/MIT).*\n"
   ]
  },
  {
   "cell_type": "markdown",
   "metadata": {},
   "source": [
    "<!--NAVIGATION-->\n",
    "< [Energy Balances](08.00-Energy-Balances.ipynb) | [Contents](index.ipynb) | [Water and Steam Calculator](08.02-Water-and-Steam-Calculator.ipynb) >\n",
    "<p><a href=\"https://colab.research.google.com/github/jckantor/CBE20255/blob/master/notebooks/08.01-Energy-Balances-on-a-Classroom.ipynb\">\n",
    "<img align=\"left\" src=\"https://colab.research.google.com/assets/colab-badge.svg\" alt=\"Open in Colab\" title=\"Open in Google Colaboratory\"></a>\n"
   ]
  },
  {
   "cell_type": "markdown",
   "metadata": {
    "colab_type": "text",
    "id": "view-in-github"
   },
   "source": [
    "<a href=\"https://colab.research.google.com/github/jckantor/CBE20255/blob/master/notebooks/Energy_Balances_on_a_Classroom.ipynb\" target=\"_parent\"><img src=\"https://colab.research.google.com/assets/colab-badge.svg\" alt=\"Open In Colab\"/></a>"
   ]
  },
  {
   "cell_type": "markdown",
   "metadata": {
    "colab_type": "text",
    "id": "eLfUPqzaTFNg"
   },
   "source": [
    "# Energy Balances on a Classroom"
   ]
  },
  {
   "cell_type": "markdown",
   "metadata": {
    "colab_type": "text",
    "id": "l7zz8WRNK5kS"
   },
   "source": [
    "## Heat Requirement\n",
    "\n",
    "Classroom air quality standards typically specify between 4 and 12 air changes per hour. Consider a classroom with dimensions of 10 by 8 meters, and height of 3 meters. Outdoor air temperature is 0$^\\circ$C, and local campus standards require conditioning air to 25$^\\circ$C and supplying 6 air changes per hour. How much heat is required?\n",
    "\n",
    "**Solution**\n",
    "\n",
    "A generic energy balance can be written for a system with one inlet flow and one outlet flow as\n",
    "\n",
    "\\begin{equation}\n",
    "\\dot{m}_{out}\\left(\\hat{H}_{out} + \\hat{E}_{K,out} + \\hat{E}_{P,out}\\right) = \\dot{m}_{in}\\left(\\hat{H}_{in} + \\hat{E}_{K,in} + \\hat{E}_{P,in}\\right) + \\dot{Q} + \\dot{W}_{shaft}\n",
    "\\end{equation}\n",
    "\n",
    "In this case, the changes in enthalpy will be significant larger than changes in kinetic or potential energy, and there is no substantial shaft work being done.The energy balance thereby reduces to \n",
    "\n",
    "\\begin{equation}\n",
    "\\dot{m}_{out}\\hat{H}_{out} = \\dot{m}_{in}\\hat{H}_{in} + \\dot{Q}\n",
    "\\end{equation}\n",
    "\n",
    "The mass inflow is equal to the mass outflow at steady. Solving for the heat requirement\n",
    "\n",
    "\\begin{equation}\n",
    "\\dot{Q} = \\dot{m}\\left(\\hat{H}_{out} - \\hat{H}_{in}\\right)\n",
    "\\end{equation}\n",
    "\n",
    "Table B.8 of Felder, et al., presents data for the molar specific enthalpies of selected gases in units of kJ/gmol. For that purpose, we recast the heat balance in molar units\n",
    "\n",
    "\\begin{equation}\n",
    "\\dot{Q} = \\dot{n}\\left(\\hat{H}_{out} - \\hat{H}_{in}\\right)\n",
    "\\end{equation}\n",
    "\n",
    "We can now do the necessary calculations."
   ]
  },
  {
   "cell_type": "code",
   "execution_count": 0,
   "metadata": {
    "colab": {
     "base_uri": "https://localhost:8080/",
     "height": 89
    },
    "colab_type": "code",
    "id": "7eSqZr7aK5EM",
    "outputId": "7f8b7fea-8ee3-4d45-dc6d-709f43828fd7"
   },
   "outputs": [
    {
     "name": "stdout",
     "output_type": "stream",
     "text": [
      "molar flow [gmol/hr] = 58856.73490056012\n",
      "heat required [kJ/hr] = 42376.849128403286\n",
      "heat required [watts] = 11771.346980112023\n",
      "heat required [BTU/hr] = 40167.629505595534\n"
     ]
    }
   ],
   "source": [
    "# volumetric flowrate at 25 C\n",
    "\n",
    "Vdot = 6 * 10 * 8 * 3.  # cubic meters/hour\n",
    "R = 0.08206             # liter-atm/gmol-K\n",
    "P = 1.                  # atm\n",
    "T = 25 + 273.15         # K\n",
    "ndot = P*Vdot*1000/(R*T)     # gmol/hr\n",
    "\n",
    "print(\"molar flow [gmol/hr] =\", ndot)\n",
    "\n",
    "Hin = -0.72             # kJ/gmol\n",
    "Hout = 0.               # kJ/gmol\n",
    "\n",
    "Qdot = ndot*(Hout - Hin)\n",
    "\n",
    "print(\"heat required [kJ/hr] =\", Qdot)\n",
    "print(\"heat required [watts] =\", Qdot*1000/3600)\n",
    "print(\"heat required [BTU/hr] =\", Qdot/1.055)"
   ]
  },
  {
   "cell_type": "markdown",
   "metadata": {
    "colab_type": "text",
    "id": "MhdM6yU7ec5m"
   },
   "source": [
    "## Steam Requirement\n",
    "\n",
    "The central campus utilities distribute steam to campus buildings. The steam is specified at 70 psig. How much steam is required to heat this classroom?\n",
    "\n",
    "**Solution**\n",
    "\n",
    "In this case we perform an energy balance on the steam condenser providing heat to the incoming air stream to the classroom. If the required heat is $\\dot{Q}_{heat}$, then the condenser heat balance is \n",
    "\n",
    "\\begin{equation}\n",
    "\\dot{m}_{steam}\\left(\\hat{H}_{steam, out} - \\hat{H}_{steam,in}\\right) = -\\dot{Q}_{heat}\n",
    "\\end{equation}\n",
    "\n",
    "(Be sure you understand the why the sign of $\\dot{Q}_{heat}$ is negative.) Solving for the steam requirement\n",
    "\n",
    "\\begin{equation}\n",
    "\\dot{m}_{steam} = \\frac{\\dot{Q}_{heat}}{\\hat{H}_{steam,in} - \\hat{H}_{steam,out}}\n",
    "\\end{equation}\n",
    "\n",
    "We will assume the inlet and outlet steam are the saturated vapor and liquid, respectively, at 70 psig. Data for saturated steam can be found in Table B.6 of Felder, et al. "
   ]
  },
  {
   "cell_type": "code",
   "execution_count": 0,
   "metadata": {
    "colab": {
     "base_uri": "https://localhost:8080/",
     "height": 35
    },
    "colab_type": "code",
    "id": "LBHa46-7c0gq",
    "outputId": "6c2c75bc-16b5-40f5-ba13-f16f6ab0d096"
   },
   "outputs": [
    {
     "name": "stdout",
     "output_type": "stream",
     "text": [
      "steam pressure [bar absolute] = 5.839563282525857\n"
     ]
    }
   ],
   "source": [
    "Psteam = (70 + 14.696)/14.696 * 101325/100000.  # bar\n",
    "print(\"steam pressure [bar absolute] =\", Psteam)"
   ]
  },
  {
   "cell_type": "markdown",
   "metadata": {
    "colab_type": "text",
    "id": "J7mcutEfXwhE"
   },
   "source": [
    "After finding the enthalpies of saturated liquid and vapor at the indicated pressure:"
   ]
  },
  {
   "cell_type": "code",
   "execution_count": 0,
   "metadata": {
    "colab": {
     "base_uri": "https://localhost:8080/",
     "height": 35
    },
    "colab_type": "code",
    "id": "WQ0KAfrvjXOt",
    "outputId": "0a865a57-a531-4b2f-dcf4-8a6b05d1fb94"
   },
   "outputs": [
    {
     "name": "stdout",
     "output_type": "stream",
     "text": [
      "steam flow [kg/hr] = 20.32365312378461\n"
     ]
    }
   ],
   "source": [
    "H_vapor = 2755.5    # kJ/kg\n",
    "H_water = 670.4     # kJ/kg\n",
    "\n",
    "m_dot = Qdot/(H_vapor - H_water)\n",
    "print(\"steam flow [kg/hr] =\", m_dot)"
   ]
  },
  {
   "cell_type": "markdown",
   "metadata": {
    "colab_type": "text",
    "id": "YMfEohxtZGcE"
   },
   "source": [
    "## Pipe Sizing\n",
    "\n",
    "Piping for the distribution of saturated steam generally provide for a flow velocity between 25 and 35 m/s. What is the interior diameter of the piping needed to serve the classroom?\n",
    "\n",
    "**Solution**\n",
    "\n",
    "The volumetric flowrate of steam flowing in a pipe with diameter $d$ at velocity $v$ is \n",
    "\n",
    "\\begin{equation}\n",
    "\\dot{V} = A v = \\left(\\frac{1}{4}\\pi d^2 \\right)v\n",
    "\\end{equation}\n",
    "\n",
    "For steam with a specific volume $\\hat{V}$ the volumetric flow is $\\dot{V} = \\dot{m}\\hat{V}$. Solving for $d$\n",
    "\n",
    "\\begin{equation}\n",
    "d = 2 \\sqrt{\\frac{\\dot{m}\\hat{V}}{\\pi v}}\n",
    "\\end{equation}\n",
    "\n",
    "The specific volume is found in Table B.4 of Felder, et al."
   ]
  },
  {
   "cell_type": "code",
   "execution_count": 0,
   "metadata": {
    "colab": {
     "base_uri": "https://localhost:8080/",
     "height": 35
    },
    "colab_type": "code",
    "id": "TMPXEl-iYpr1",
    "outputId": "e62d9642-0903-459d-ed1a-9e1f216be6d2"
   },
   "outputs": [
    {
     "name": "stdout",
     "output_type": "stream",
     "text": [
      "needed pipe diameter [cm] = 0.8687580416317904\n"
     ]
    }
   ],
   "source": [
    "Vhat = 0.315     # m3/kg\n",
    "v = 30           # m/s\n",
    "pi = 3.1416\n",
    "d = 2*(m_dot*Vhat/pi/v/3600)**0.5   # m\n",
    "\n",
    "print(\"needed pipe diameter [cm] =\", 100*d)\n"
   ]
  },
  {
   "cell_type": "code",
   "execution_count": 0,
   "metadata": {
    "colab": {},
    "colab_type": "code",
    "id": "ZkL2jTj8kv7A"
   },
   "outputs": [],
   "source": []
  },
  {
   "cell_type": "markdown",
   "metadata": {},
   "source": [
    "<!--NAVIGATION-->\n",
    "< [Energy Balances](08.00-Energy-Balances.ipynb) | [Contents](index.ipynb) | [Water and Steam Calculator](08.02-Water-and-Steam-Calculator.ipynb) >\n",
    "<p><a href=\"https://colab.research.google.com/github/jckantor/CBE20255/blob/master/notebooks/08.01-Energy-Balances-on-a-Classroom.ipynb\">\n",
    "<img align=\"left\" src=\"https://colab.research.google.com/assets/colab-badge.svg\" alt=\"Open in Colab\" title=\"Open in Google Colaboratory\"></a>\n"
   ]
  }
 ],
 "metadata": {
  "colab": {
   "collapsed_sections": [],
   "include_colab_link": true,
   "name": "Energy_Balances_on_a_Classroom.ipynb",
   "provenance": [],
   "version": "0.3.2"
  },
  "kernelspec": {
   "display_name": "Python 3",
   "name": "python3"
  }
 },
 "nbformat": 4,
 "nbformat_minor": 0
}
