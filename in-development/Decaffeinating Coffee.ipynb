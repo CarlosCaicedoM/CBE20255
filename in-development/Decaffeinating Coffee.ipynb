{
 "metadata": {
  "name": ""
 },
 "nbformat": 3,
 "nbformat_minor": 0,
 "worksheets": [
  {
   "cells": [
    {
     "cell_type": "heading",
     "level": 1,
     "metadata": {},
     "source": [
      "Decaffeinating Coffee"
     ]
    },
    {
     "cell_type": "markdown",
     "metadata": {},
     "source": [
      "<iframe width=\"560\" height=\"315\" src=\"//www.youtube.com/embed/tJSof5ZVrRY?start=0&end=170\" frameborder=\"0\" allowfullscreen></iframe>"
     ]
    },
    {
     "cell_type": "code",
     "collapsed": false,
     "input": [],
     "language": "python",
     "metadata": {},
     "outputs": []
    }
   ],
   "metadata": {}
  }
 ]
}