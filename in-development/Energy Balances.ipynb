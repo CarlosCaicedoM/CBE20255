{
 "cells": [
  {
   "cell_type": "markdown",
   "metadata": {},
   "source": [
    "# Energy Balances\n",
    "\n",
    "## Internal Energy\n",
    "\n",
    "Energy is the capacity of a system to do work. The capacity to do work can be stored in many forms, such as the overall kinetic energy of the system of interest, the position of the system in a force field, and other phenomena. \n",
    "\n",
    "Here we are interested in those forms of energy most relevant to typical chemical engineering applications which includes the energy of the chemical bonds of the components that comprises the system of interest, and the thermal energy associated with the motion and intermolecular interactions of the constituent molecules. We call this the **internal energy** of the system.\n",
    "\n",
    "Now imagine a system that is closed off from all exchanges of material with the surroundings. The volume is vixed The closure is per mass of any kind is exchanged with the surroundings.\n",
    "\n",
    "\n",
    "\n"
   ]
  },
  {
   "cell_type": "code",
   "execution_count": null,
   "metadata": {
    "collapsed": true
   },
   "outputs": [],
   "source": []
  }
 ],
 "metadata": {
  "anaconda-cloud": {},
  "kernelspec": {
   "display_name": "Python [Root]",
   "language": "python",
   "name": "Python [Root]"
  },
  "language_info": {
   "codemirror_mode": {
    "name": "ipython",
    "version": 2
   },
   "file_extension": ".py",
   "mimetype": "text/x-python",
   "name": "python",
   "nbconvert_exporter": "python",
   "pygments_lexer": "ipython2",
   "version": "2.7.12"
  }
 },
 "nbformat": 4,
 "nbformat_minor": 0
}
