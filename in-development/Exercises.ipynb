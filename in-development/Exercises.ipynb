{
 "cells": [
  {
   "cell_type": "markdown",
   "metadata": {},
   "source": [
    "# DeflateGate: What did Neil deGrasse Tyson get wrong?\n",
    "\n",
    "During the NFL playoffs in January, 2015, referees \n",
    "\n",
    "On January 26, 2015, the noted public figure and physicist Neil deGrasse Tyson posted this tweet:\n",
    "\n",
    "> For the Patriots to blame a change in temperature for 15% lower-pressures, requires balls to be inflated with 125-degree air.\n",
    "\n",
    "Within hours he was contacted by many followers that his calculations were wrong.  What did he get wrong?  And what would have been the correct statement?"
   ]
  },
  {
   "cell_type": "code",
   "execution_count": null,
   "metadata": {
    "collapsed": true
   },
   "outputs": [],
   "source": []
  },
  {
   "cell_type": "code",
   "execution_count": null,
   "metadata": {
    "collapsed": true
   },
   "outputs": [],
   "source": []
  }
 ],
 "metadata": {
  "kernelspec": {
   "display_name": "Python 2",
   "language": "python",
   "name": "python2"
  },
  "language_info": {
   "codemirror_mode": {
    "name": "ipython",
    "version": 2
   },
   "file_extension": ".py",
   "mimetype": "text/x-python",
   "name": "python",
   "nbconvert_exporter": "python",
   "pygments_lexer": "ipython2",
   "version": "2.7.9"
  }
 },
 "nbformat": 4,
 "nbformat_minor": 0
}
