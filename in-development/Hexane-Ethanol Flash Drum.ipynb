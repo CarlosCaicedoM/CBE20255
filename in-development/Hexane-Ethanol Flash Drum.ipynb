{
 "cells": [
  {
   "cell_type": "markdown",
   "metadata": {},
   "source": [
    "# Example: Hexane-Ethanol Flash Drum\n",
    "\n",
    "## Problem Statement\n",
    "\n",
    "A 200 kg-mol/hour liquid ethanol/hexane mixture that is 20 mole % hexane needs to be separated. Experimental vapor/liquid equilibrium data measured at 1 atm is available in the accompanying chart (from http://www.ddbst.com/en/EED/VLE/VLE%20Ethanol%3BHexane.php) \n",
    "\n",
    "1. What are the bubble point and dew point temperatures and compositions for this mixture?\n",
    "2. Sketch a flowsheet for an isothermal flash drum operating at 1 atm that separates the mixture into liquid and vapor streams of 100 kg-mol/hour each. What fraction of the hexane is recovered in the vapor stream?\n",
    "3. Modify your design so that the vapor stream is 50 mole % hexane. Now what fraction of the hexane is recovered in the vapor stream?\n",
    "\n",
    "\n",
    "\\begin{align*}\n",
    "200\\,\\frac{\\mbox{kgmol}}{\\mbox{hr}} & = F \\\\\n",
    "& = L + V \\\\\n",
    "& = L + 0.233L \\\\\n",
    "& = 1.233 L\n",
    "\\end{align*}\n",
    "\n",
    "\n",
    "\n"
   ]
  },
  {
   "cell_type": "code",
   "execution_count": null,
   "metadata": {
    "collapsed": true
   },
   "outputs": [],
   "source": []
  }
 ],
 "metadata": {
  "kernelspec": {
   "display_name": "Python 3",
   "language": "python",
   "name": "python3"
  },
  "language_info": {
   "codemirror_mode": {
    "name": "ipython",
    "version": 2
   },
   "file_extension": ".py",
   "mimetype": "text/x-python",
   "name": "python",
   "nbconvert_exporter": "python",
   "pygments_lexer": "ipython2",
   "version": "2.7.12"
  }
 },
 "nbformat": 4,
 "nbformat_minor": 1
}
