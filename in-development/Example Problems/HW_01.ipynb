{
  "nbformat": 4,
  "nbformat_minor": 0,
  "metadata": {
    "colab": {
      "name": "HW_01.ipynb",
      "version": "0.3.2",
      "provenance": []
    }
  },
  "cells": [
    {
      "metadata": {
        "id": "OgCQzbrurgZf",
        "colab_type": "text"
      },
      "cell_type": "markdown",
      "source": [
        "# CBE 20255: Homework 01\n",
        "## Due: September 5, 2014"
      ]
    },
    {
      "metadata": {
        "id": "53vqw7S8rgZi",
        "colab_type": "text"
      },
      "cell_type": "markdown",
      "source": [
        "##Problem P1.10"
      ]
    },
    {
      "metadata": {
        "id": "5Cpf2UW2rgZk",
        "colab_type": "text"
      },
      "cell_type": "markdown",
      "source": [
        "A folk recipe for a homemade ant killer is to mix equal amounts of baking soda (sodium bicarbonate $NaHCO_3$) and powdered sugar, then spread the mixture in areas infested with ants. The theory is that the ants will be attracted to the sugar, eat some of the mixture, and carry more back to their nest to feed others. The ingested sodium bicarbonate will then react with formic acid present in the ants digestive tract to form a lethal amount of carbon dioxide gas ($CO_2$). \n",
        "\n",
        "Assuming the other reaction products are water and sodium formate ($HCOONa$), write a balanced reaction for what happens inside the ant's digestive tract.\n",
        "\n",
        "(Note: This is a folk recipe and explanation, there is little evidence regarding whether or not it actually works!)"
      ]
    },
    {
      "metadata": {
        "id": "j-KpJ5w6rgZm",
        "colab_type": "text"
      },
      "cell_type": "markdown",
      "source": [
        "##Problem 2"
      ]
    },
    {
      "metadata": {
        "id": "zJ4kzfQ0rgZn",
        "colab_type": "text"
      },
      "cell_type": "markdown",
      "source": [
        "Consider again the problem posed problem 1, parts b and c. You’ve been given the task of improving plant performance. You immediately diagnose the loss of unreacted glucose as a wasted raw material, so you decide to recyle the glucose rich steam for recycle.\n",
        "\n",
        "(a) Sketch the process flow diagram for the combined reac- tor/separator system described in parts 1b and 1c. The recycle stream is the glucose rich stream produced by the separator in part 1c, and is mixed with feedstream to the reactor.\n",
        "\n",
        "(b) Perform a degree of freedom analysis. How many degrees of freedom are present?\n",
        "\n",
        "(c) Does problem 1(c) provide enough information to solve for all component flowrates in your flowsheet?\n",
        "\n",
        "(d) Prepare a list of all component balances and process specifications needed to solve for the process flowrates. "
      ]
    },
    {
      "metadata": {
        "id": "tg23filrrgZp",
        "colab_type": "text"
      },
      "cell_type": "markdown",
      "source": [
        "##Problem 3"
      ]
    },
    {
      "metadata": {
        "id": "aUwMfqXlrgZr",
        "colab_type": "text"
      },
      "cell_type": "markdown",
      "source": [
        "Murphy Problem 3.15."
      ]
    },
    {
      "metadata": {
        "id": "byz5YwzMrgZu",
        "colab_type": "text"
      },
      "cell_type": "markdown",
      "source": [
        "##Problem 4"
      ]
    },
    {
      "metadata": {
        "id": "Ok00Tv8UrgZw",
        "colab_type": "text"
      },
      "cell_type": "markdown",
      "source": [
        "Murphy Problem P3.20. \n",
        "\n",
        "_Hint: Draw a diagram. This problem can be solved with paper and pencil, no simulations are required._"
      ]
    }
  ]
}