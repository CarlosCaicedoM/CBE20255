{
 "metadata": {
  "name": ""
 },
 "nbformat": 3,
 "nbformat_minor": 0,
 "worksheets": [
  {
   "cells": [
    {
     "cell_type": "markdown",
     "metadata": {},
     "source": [
      "# CBE 20255: Homework 09\n",
      "## Due: April 2, 2014"
     ]
    },
    {
     "cell_type": "markdown",
     "metadata": {},
     "source": [
      "## Problem 1: Design of a Carbonated Beverage\n",
      "\n",
      "The purpose of carbonating beverages is to maintain a positive pressure inside the package that keeps out oxygen and other potential contaminants. The burst pressure of 2 liter soda bottles [has been measured to be 150 psig](http://en.wikipedia.org/wiki/MythBusters_%282005_season%29#Bottle_Rocket_Blast-Off) (approx. 10 atm). For safety, suppose you want the bottle pressure to be no more than 6 atm gauge on a hot summer day in Arizona (say 50 &deg;C, ) and yet have at least 0.5 atm of positive gauge pressure at 0 &deg;C. Assuming your beverage is a mixture of CO<sub>2</sub> and water, is it possible to meet this specification? What concentration (measured in g of CO<sub>2</sub> per g of water) would you recommend?"
     ]
    },
    {
     "cell_type": "heading",
     "level": 2,
     "metadata": {},
     "source": [
      "Problem 2"
     ]
    },
    {
     "cell_type": "markdown",
     "metadata": {},
     "source": [
      "Consider the a liquid mixture with 50% pentane (1), 30% hexane (2) and 20% cyclohexane (3) (all in mol-%). A p = 5\n",
      "bar, the temperature is gradually increased. What is the bubble temperature and composition of the \ufb01rst vapor that is formed?"
     ]
    },
    {
     "cell_type": "heading",
     "level": 2,
     "metadata": {},
     "source": [
      "Problem 3"
     ]
    },
    {
     "cell_type": "markdown",
     "metadata": {},
     "source": [
      "Consider the same vapor mixture with 50% pentane (1), 30% hexane (2) and 20% cyclohexane (3). At p = 5 bar, the temperature is gradually decreased. What is the dew point temperature and the composition of the \ufb01rst liquid\n",
      "that is formed?\n"
     ]
    },
    {
     "cell_type": "heading",
     "level": 2,
     "metadata": {},
     "source": [
      "Problem 4"
     ]
    },
    {
     "cell_type": "markdown",
     "metadata": {},
     "source": [
      "Calculate the temperature and composition of a liquid in equilibrium with a gas mixture containing 10%\n",
      "pentane (1), 10% hexane and 80% nitrogen (3) at 3 bar. Nitrogen is far above its critical point and may be considered non-condensable."
     ]
    },
    {
     "cell_type": "heading",
     "level": 2,
     "metadata": {},
     "source": [
      "Problem 5"
     ]
    },
    {
     "cell_type": "markdown",
     "metadata": {},
     "source": [
      "A feed F is split into a vapor product V and a liquid product L in a \ufb02ash tank. The feed is 50% pentane, 30% hexane and 20% cyclohexane (all in mol-%). In the tank, T = 390K and p = 5 bar. For example, we may have a heat exchanger that keeps constant temperature and a valve on the vapor product stream that keeps constant pressure. We want to \ufb01nd the product split and product compositions. Assume ideal liquid mixture and ideal gas (Raoult\u2019s law)."
     ]
    },
    {
     "cell_type": "heading",
     "level": 2,
     "metadata": {},
     "source": [
      "Problem 6"
     ]
    },
    {
     "cell_type": "markdown",
     "metadata": {},
     "source": [
      "The exhaust gas from a natural gas power plant is at 1 bar and contains 76% N<sub>2</sub> (1), 12% O<sub>2</sub> (2), 4% CO<sub>2</sub> (3) and 8% H<sub>2</sub>O (4). The gas is cooled to 25 &deg;C (partly condensed), and is then separated in a \ufb02ash drum into a gas product V and a liquid product L containing most of the water. Find the compositions of the product streams. Are we able to remove any signi\ufb01cant amount of CO2 in the water? Data: Use pure component vapor pressure data for water and Henry\u2019s law coe\ufb03cients for\n",
      "the gas components."
     ]
    },
    {
     "cell_type": "code",
     "collapsed": false,
     "input": [],
     "language": "python",
     "metadata": {},
     "outputs": []
    }
   ],
   "metadata": {}
  }
 ]
}