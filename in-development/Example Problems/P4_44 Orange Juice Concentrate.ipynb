{
 "cells": [
  {
   "cell_type": "markdown",
   "metadata": {},
   "source": [
    "# Problem 4.43: Production of Frozen Orange Concentrate"
   ]
  },
  {
   "cell_type": "markdown",
   "metadata": {},
   "source": [
    "## Process Diagram"
   ]
  },
  {
   "cell_type": "markdown",
   "metadata": {
    "collapsed": true
   },
   "source": [
    "![](figures/OrangeJuiceConcentrate.png)"
   ]
  },
  {
   "cell_type": "code",
   "execution_count": 1,
   "metadata": {
    "collapsed": true
   },
   "outputs": [],
   "source": [
    "# import sympy library for symbolic algebra\n",
    "\n",
    "import sympy as sym"
   ]
  },
  {
   "cell_type": "markdown",
   "metadata": {},
   "source": [
    "## Create Steam Variables"
   ]
  },
  {
   "cell_type": "code",
   "execution_count": 70,
   "metadata": {
    "collapsed": false
   },
   "outputs": [
    {
     "name": "stdout",
     "output_type": "stream",
     "text": [
      "[mw1, mw2, mw3, mw4, mw5, mw6]\n",
      "[ms1, ms2, ms3, ms4, ms5, ms6]\n"
     ]
    }
   ],
   "source": [
    "# create variables representing mass flows in each stream\n",
    "#\n",
    "#  w ==> water\n",
    "#  s ==> solids\n",
    "\n",
    "mw = sym.var(['mw1','mw2','mw3','mw4','mw5','mw6'])\n",
    "ms = sym.var(['ms1','ms2','ms3','ms4','ms5','ms6'])\n",
    "\n",
    "print mw\n",
    "print ms"
   ]
  },
  {
   "cell_type": "code",
   "execution_count": 71,
   "metadata": {
    "collapsed": false
   },
   "outputs": [
    {
     "name": "stdout",
     "output_type": "stream",
     "text": [
      "(mw1, mw2, mw3, mw4, mw5, mw6)\n",
      "(ms1, ms2, ms3, ms4, ms5, ms6)\n"
     ]
    }
   ],
   "source": [
    "# here's a shortcut way of creating stream variables\n",
    "\n",
    "mw = sym.var('mw1:7')\n",
    "ms = sym.var('ms1:7')\n",
    "\n",
    "print mw\n",
    "print ms"
   ]
  },
  {
   "cell_type": "markdown",
   "metadata": {},
   "source": [
    "## Stream Specifications"
   ]
  },
  {
   "cell_type": "code",
   "execution_count": null,
   "metadata": {
    "collapsed": true
   },
   "outputs": [],
   "source": [
    "specs = [\n",
    "    sym.Eq(mw1 + ms1, 100.0),\n",
    "    sym.Eq(ms1, 0.10*(mw1 + ms1)),\n",
    "    sym.Eq(ms3, 0.10*(mw3 + ms3)),\n",
    "    sym.Eq(ms4, 0.0),\n",
    "    sym.Eq(ms5, 0.65*(mw5 + ms5)),\n",
    "    sym.Eq(ms6, 0.42*(mw6 + ms6))\n",
    "]"
   ]
  },
  {
   "cell_type": "markdown",
   "metadata": {},
   "source": [
    "## Mass Balances"
   ]
  },
  {
   "cell_type": "code",
   "execution_count": 53,
   "metadata": {
    "collapsed": false
   },
   "outputs": [],
   "source": [
    "splitter = [\n",
    "    sym.Eq(ms1 - ms2 - ms3),\n",
    "    sym.Eq(mw1 - mw2 - mw3)\n",
    "]\n",
    "\n",
    "evaporator = [\n",
    "    sym.Eq(ms2 - ms4 - ms5),\n",
    "    sym.Eq(mw2 - mw4 - mw5)\n",
    "]\n",
    "\n",
    "mixer = [\n",
    "    sym.Eq(ms3 + ms5 - ms6),\n",
    "    sym.Eq(mw3 + mw5 - mw6)\n",
    "]"
   ]
  },
  {
   "cell_type": "markdown",
   "metadata": {},
   "source": [
    "## Solve"
   ]
  },
  {
   "cell_type": "code",
   "execution_count": null,
   "metadata": {
    "collapsed": true
   },
   "outputs": [],
   "source": [
    "soln = sym.solve(specs + splitter + evaporator + mixer)"
   ]
  },
  {
   "cell_type": "markdown",
   "metadata": {},
   "source": [
    "## Print Solution"
   ]
  },
  {
   "cell_type": "code",
   "execution_count": 54,
   "metadata": {
    "collapsed": false
   },
   "outputs": [
    {
     "name": "stdout",
     "output_type": "stream",
     "text": [
      " 10.00  90.00\n",
      "  9.00  81.04\n",
      "  1.00   8.96\n",
      "  0.00  76.19\n",
      "  9.00   4.85\n",
      " 10.00  13.81\n"
     ]
    }
   ],
   "source": [
    "print \"{0:6.2f} {1:6.2f}\".format(soln[ms1],soln[mw1])\n",
    "print \"{0:6.2f} {1:6.2f}\".format(soln[ms2],soln[mw2])\n",
    "print \"{0:6.2f} {1:6.2f}\".format(soln[ms3],soln[mw3])\n",
    "print \"{0:6.2f} {1:6.2f}\".format(soln[ms4],soln[mw4])\n",
    "print \"{0:6.2f} {1:6.2f}\".format(soln[ms5],soln[mw5])\n",
    "print \"{0:6.2f} {1:6.2f}\".format(soln[ms6],soln[mw6])"
   ]
  },
  {
   "cell_type": "markdown",
   "metadata": {},
   "source": [
    "## Print Steam Table"
   ]
  },
  {
   "cell_type": "code",
   "execution_count": 67,
   "metadata": {
    "collapsed": false
   },
   "outputs": [
    {
     "name": "stdout",
     "output_type": "stream",
     "text": [
      " Water [kg/hr]:  90.00   81.04    8.96   76.19    4.85   13.81  \n",
      "Solids [kg/hr]:  10.00    9.00    1.00    0.00    9.00   10.00 \n"
     ]
    }
   ],
   "source": [
    "print \" Water [kg/hr]:\",\n",
    "for m in mw:\n",
    "    print \"{0:6.2f} \".format(soln[m]),    \n",
    "print \"\"\n",
    "\n",
    "print \"Solids [kg/hr]:\",\n",
    "for m in ms:\n",
    "    print \"{0:6.2f} \".format(soln[m]),"
   ]
  },
  {
   "cell_type": "code",
   "execution_count": null,
   "metadata": {
    "collapsed": true
   },
   "outputs": [],
   "source": []
  }
 ],
 "metadata": {
  "anaconda-cloud": {},
  "kernelspec": {
   "display_name": "Python [Root]",
   "language": "python",
   "name": "Python [Root]"
  },
  "language_info": {
   "codemirror_mode": {
    "name": "ipython",
    "version": 2
   },
   "file_extension": ".py",
   "mimetype": "text/x-python",
   "name": "python",
   "nbconvert_exporter": "python",
   "pygments_lexer": "ipython2",
   "version": "2.7.12"
  }
 },
 "nbformat": 4,
 "nbformat_minor": 0
}
