{
 "cells": [
  {
   "cell_type": "markdown",
   "metadata": {},
   "source": [
    "# Producing Methalox Fuel on Mars\n",
    "\n",
    "## Background\n",
    "\n",
    "Elon Musk, founder of multiple ventures including PayPal, Tesla Motors, SolarCity, and SpaceX, recently proposed an ambitious plan for a mission to Mars."
   ]
  },
  {
   "cell_type": "code",
   "execution_count": 5,
   "metadata": {
    "collapsed": false
   },
   "outputs": [
    {
     "data": {
      "text/html": [
       "<iframe width=\"560\" height=\"315\" src=\"https://www.youtube.com/embed/TnY23KEkZPY?rel=0\" frameborder=\"0\" allowfullscreen></iframe>"
      ],
      "text/plain": [
       "<IPython.core.display.HTML object>"
      ]
     },
     "execution_count": 5,
     "metadata": {},
     "output_type": "execute_result"
    }
   ],
   "source": [
    "from IPython.display import HTML\n",
    "HTML('<iframe width=\"560\" height=\"315\" src=\"https://www.youtube.com/embed/TnY23KEkZPY?rel=0\" frameborder=\"0\" allowfullscreen></iframe>')"
   ]
  },
  {
   "cell_type": "markdown",
   "metadata": {},
   "source": [
    "A key technologies underpinning this plan is the SpaceX ['Raptor' rocket engine](https://en.wikipedia.org/wiki/Raptor_(rocket_engine)) currently undergoing testing.  This highly reusable engine is fueled by cryogenic methane and oxygen. The combustion reaction is\n",
    "\n",
    "$$CH_4 + 2\\,O_2 \\longrightarrow CO_2 + 2\\,H_2O$$\n",
    "\n",
    "This stoichiometric ratio of cryogenic methane and oxygen is referred to as methalox'.The SpaceX for interplanetary transport requires in-situ propellant production of the methalox fuel on Mars. \n",
    "\n",
    "![System Architecture](../images/spacex-mars-interplanetary-transport-mission-profile.jpg)\n",
    "\n",
    "The purpose of this notebook is to explore several concepts for the production of methalox fuel using the Martian atmosphere as  source of carbon dioxide and solar photovoltaics for electricity.\n",
    "\n",
    "## Concept 1. Produce Methalox from transported hydrogen and in-situ carbon dioxide.\n",
    "\n",
    "The Martian atmosphere is primarily carbon dioxide (96 mole %) at a nominal pressure of 600 Pa (compared to a standard Earth atmosphere of 101,325 Pa). \n",
    "\n",
    "The elemental composition of methalox fuel is given in this table:\n",
    "\n",
    "| Element | MW | mols/extent | kg/extent | mass % |\n",
    "| :-------: | :-: | :-----: | :-: | :----: |\n",
    "| C | 12.0 | 1 | 12.0 | 15.0% |\n",
    "| H |  1.0 | 4 |  4.0 |  5.0% |\n",
    "| O | 16.0 | 4 | 64.0 | 80.0% |\n",
    "\n",
    "Clearly, using only carbon dioxide from the Martian environment will be used, production of methalox fuel requires transport of hydrogen from earth.  The challenge, then, is produce methane and oxygen in a 1:2 molar ratio using only carbon dioxide from the Martian atmosphere and hydrogen transported form earch.\n",
    "\n",
    "### Review of Reaction Chemistry\n",
    "\n",
    "Next we review a collection of relevant chemical reactions with proven technologies.\n",
    "\n",
    "##### Sabatier Reaction\n",
    "\n",
    "The [Sabatier reaction](https://en.wikipedia.org/wiki/Sabatier_reaction) \n",
    "\n",
    "$$CO_2 + 4\\,H_2 \\longrightarrow CH_4 + 2\\,H_2O$$\n",
    "\n",
    "is a mildly exothermic reaction for the production of methane from carbon dioxide and hydrogen over a catalyst at elevated temperatures. Nickel catalysts have been used for this reaction, although ruthenium on alumina has been found to be more efficient. The [reactor can be a steel pipe filled with catalyst](http://ntrs.nasa.gov/archive/nasa/casi.ntrs.nasa.gov/20120016419.pdf) and surrounded by appropriate cooling system. About 80% conversion of the $CO_2$ is achieved with a field consisting of a stoichiometric ratio of $H_2$/$CO_2$.  \n",
    "\n",
    "The technology has been demonstrated on a pilot plant scale by Audi as a component of an 6.3 megawatt 'electricity to gas' [etogas](http://www.etogas.com/) project, and for the [methanation of industrial waste gases](http://www.etogas.com/en/references/article///methanation-plant-for-treating-co2-residual-gases-in-an-industrial-process/) formed in the production of carbon components.\n",
    "\n",
    "##### Water Splitting\n",
    "\n",
    "With sufficient external energy, water can be split into oxygen and hydrogen\n",
    "\n",
    "$$2\\,H_2O \\longrightarrow 2\\,H_2 + O_2$$\n",
    "\n",
    "by a variety of chemical mechanisms. On an industrial scale, the [high pressure electrolysis (HPE)](https://en.wikipedia.org/wiki/High-pressure_electrolysis) of water is a promising technology under active development by the [U.S. Department of Energy](https://www.hydrogen.energy.gov/pdfs/progress15/ii_b_4_mittelsteadt_2015.pdf), [Mitsubishi](http://www.sciencedirect.com/science/article/pii/S1464285904002135), and for use in [space missions by the Japan Aerospace Exploration Agency](http://arc.aiaa.org/doi/abs/10.2514/6.2012-4128). With [membrane systems for HPE](https://www.sintef.no/globalassets/project/novel/pdf/2-4_nrckurchatov_fateev_public.pdf), the hydrogen stream is leaves the cathode of the device under high pressure and separated from the oxygen and liquid water stream leaving from the anode.\n",
    "\n",
    "Photoelectric and thermal processes for water splitting are also in various stages of development.\n",
    "\n",
    "##### Reverse Water Gas Shift\n",
    "\n",
    "The water gas shift reaction is carried out on enormous scale in the commercial production of ammonia and other applications. The [reverse water gas shift (RWGS)](http://www.marspedia.org/index.php?title=Reverse_Water-Gas_Shift_Reaction) is the slightly endothermic reaction\n",
    "\n",
    "$$CO_2 + H_2 \\longrightarrow CO + H_2O$$\n",
    "\n",
    "carried out over a catalyst. The reaction typically demonstrates a 60% conversion at a $CO_2$/$H_2$ feed ratio of 4:1, 1 atm, and a temperature of 350 $^\\circ$C.\n",
    "\n",
    "##### Bosch Reaction\n",
    "\n",
    "The [Bosch reaction](https://en.wikipedia.org/wiki/Bosch_reaction) is an exothermic reaction of carbon dioxide and hydrogen to produce elemental carbon and water. The reaction is conducted at relatively high temperatures of 530-730 $^\\circ$C over an iron catalyst.\n",
    "\n",
    "More [recent research](http://ntrs.nasa.gov/archive/nasa/casi.ntrs.nasa.gov/20120016369.pdf) has shown the Bosch reaction can be broken into two stages. The first stage is the reverse water gas shift as shown above, the second stage is the catalytic reduction of carbon monoxide to carbon over an iron catalyst.\n",
    "\n",
    "$$CO + H_2 \\longrightarrow C(s) + H_2O$$\n",
    "\n",
    "Because of the operational advantages of operating as a two stage device, we will use this reaction in place of the more conventional definition of the Bosch reaction.\n",
    "\n",
    "### Generation/Consumption Analysis\n",
    "\n",
    "| Species | MW  | Sabatier | Water Splitting | RWGS | Bosch | Net | kg | Objective |\n",
    "| :-----: | :-: | :------: | :---: | :---: | :---: | :---: | :---: | :---: | :--: |\n",
    "| $CO_2$  | 44  | -1 |    |  1 |     |   |  |  $\\leq 0$ |\n",
    "| $H_2$   |  2  |\n",
    "| $H_2O$  | 18  |\n",
    "| $C$     | 12  |\n",
    "| $CO$    | 28  |\n",
    "| $CH_4$  | 16  |\n",
    "| $O_2$   | 32  |"
   ]
  },
  {
   "cell_type": "code",
   "execution_count": null,
   "metadata": {
    "collapsed": true
   },
   "outputs": [],
   "source": []
  }
 ],
 "metadata": {
  "anaconda-cloud": {},
  "kernelspec": {
   "display_name": "Python 3",
   "language": "python",
   "name": "python3"
  },
  "language_info": {
   "codemirror_mode": {
    "name": "ipython",
    "version": 3
   },
   "file_extension": ".py",
   "mimetype": "text/x-python",
   "name": "python",
   "nbconvert_exporter": "python",
   "pygments_lexer": "ipython3",
   "version": "3.6.5"
  }
 },
 "nbformat": 4,
 "nbformat_minor": 2
}
