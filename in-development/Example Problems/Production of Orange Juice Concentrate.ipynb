{
 "cells": [
  {
   "cell_type": "markdown",
   "metadata": {},
   "source": [
    "###### The latest version of this IPython notebook is available at [http://github.com/jckantor/CBE20255](http://github.com/jckantor/CBE20255)  for noncommercial use under terms of the [Creative Commons Attribution Noncommericial ShareAlike License](http://creativecommons.org/licenses/by-nc-sa/4.0/).\n",
    "\n",
    "Jeffrey C. Kantor (Kantor.1@nd.edu)"
   ]
  },
  {
   "cell_type": "markdown",
   "metadata": {},
   "source": [
    "# Production of Orange Juice Concentrate\n",
    "\n",
    "This [Jupyter notebook](http://ipython.org/notebook.html) demonstrates \n",
    "\n",
    "## Problem Statement\n",
    "\n",
    "                                           \n",
    "Fresh orange juice is typically 10 wt% pulp and 90 wt% serum.  The serum, in turn, averages 14 wt% solids and the remainder water.  Frozen range juice concentrate is made by separating the pulp from the serum, then evaporating water to produce a concentrated product that is 35 wt\\% solids, then frozen.\n",
    "\n",
    "## Part a.\n",
    "\n",
    "Draw a flow diagram of a continuous process for the production of frozen concentrate.\n",
    "\n",
    "![](figures/OrangeJuice.png)\n",
    "\n",
    "\n",
    "## Part b.\n",
    "\n",
    "Perform a degree of freedom analysis.  How many additional specifications are required to solve the material balances?\n",
    "\n",
    "## Part c.\n",
    "\n",
    "Suppose you have a source of 10,000 kg/day of fresh orange juice.  How much frozen concentrate can you produce per day?\n",
    "\n"
   ]
  },
  {
   "cell_type": "code",
   "execution_count": null,
   "metadata": {
    "collapsed": true
   },
   "outputs": [],
   "source": []
  }
 ],
 "metadata": {
  "kernelspec": {
   "display_name": "Python 3",
   "language": "python",
   "name": "python3"
  },
  "language_info": {
   "codemirror_mode": {
    "name": "ipython",
    "version": 3
   },
   "file_extension": ".py",
   "mimetype": "text/x-python",
   "name": "python",
   "nbconvert_exporter": "python",
   "pygments_lexer": "ipython3",
   "version": "3.6.5"
  }
 },
 "nbformat": 4,
 "nbformat_minor": 2
}
