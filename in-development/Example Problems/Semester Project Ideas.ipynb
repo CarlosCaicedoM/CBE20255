{
 "cells": [
  {
   "cell_type": "markdown",
   "metadata": {},
   "source": [
    "# Semester Project Ideas"
   ]
  },
  {
   "cell_type": "markdown",
   "metadata": {},
   "source": [
    "## Production of dimethyl carbonate from methanol and carbon dioxide"
   ]
  },
  {
   "cell_type": "markdown",
   "metadata": {},
   "source": [
    "## Analysis of the [PNNL concentrating solar power system](http://www.pnnl.gov/news/release.aspx?id=981)\n",
    "\n",
    "What additional efficiencies are obtained by the solar thermochemical conversion of natural gas to syngas prior to power plant combustion?\n"
   ]
  },
  {
   "cell_type": "markdown",
   "metadata": {},
   "source": [
    "## Develop alternative uses for the [acid whey by-product of yogurt production](http://modernfarmer.com/2013/05/whey-too-much-greek-yogurts-dark-side/)\n",
    "\n",
    "Acid whey is a by-product from the production of Greek yogurt. It's high acidity and biological oxygen demand make it a difficult material to process for disposal or subsequent consumption. The purpose of this project is to screen alternative uses and processes to find highest and best use of this by-product."
   ]
  },
  {
   "cell_type": "code",
   "execution_count": null,
   "metadata": {
    "collapsed": false
   },
   "outputs": [],
   "source": []
  }
 ],
 "metadata": {
  "kernelspec": {
   "display_name": "Python [conda root]",
   "language": "python",
   "name": "conda-root-py"
  },
  "language_info": {
   "codemirror_mode": {
    "name": "ipython",
    "version": 3
   },
   "file_extension": ".py",
   "mimetype": "text/x-python",
   "name": "python",
   "nbconvert_exporter": "python",
   "pygments_lexer": "ipython3",
   "version": "3.5.2"
  }
 },
 "nbformat": 4,
 "nbformat_minor": 0
}
