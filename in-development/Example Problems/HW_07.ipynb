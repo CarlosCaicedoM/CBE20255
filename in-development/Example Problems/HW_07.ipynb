{
 "metadata": {
  "name": ""
 },
 "nbformat": 3,
 "nbformat_minor": 0,
 "worksheets": [
  {
   "cells": [
    {
     "cell_type": "markdown",
     "metadata": {},
     "source": [
      "# CBE 20255: Homework 07\n",
      "## Due: March 5, 2014"
     ]
    },
    {
     "cell_type": "heading",
     "level": 2,
     "metadata": {},
     "source": [
      "Problem 1"
     ]
    },
    {
     "cell_type": "markdown",
     "metadata": {},
     "source": [
      "Hydrogen fuel cells generate electricity which, for the purpose of energy analysis, can be considered to be the same as mechanical work. The chemical reaction is \n",
      "\n",
      "$$H_2 (g) + \\frac{1}{2}O_2 (g) \\rightleftarrows H_2O (l)$$\n",
      "\n",
      "1. What is the total amount of energy released by this reaction under STP conditions?\n",
      "\n",
      "2. What is the maximum amount of mechanical work that can be extracted from this reaction?\n",
      "\n",
      "3. Hydrogen fuel cells are frequently cited as a foundation of a \"Hydrogen Economy.\" What is maximum achievable efficiency of hydrogen fuel cells when used to generate mechanical work? "
     ]
    },
    {
     "cell_type": "heading",
     "level": 2,
     "metadata": {},
     "source": [
      "Problem 2"
     ]
    },
    {
     "cell_type": "markdown",
     "metadata": {},
     "source": [
      "Chemical energy for cellular metabolism is stored by the reaction of\n",
      "ADP to form ATP\n",
      "\n",
      "$$ ADP+PO_{4}^{-3}\\rightleftarrows ATP+H_{2}O $$\n",
      "\n",
      "for which $\\Delta\\hat{H}_{r}^{\\circ}=+20.5$ kJ/gmol and \n",
      "$\\Delta\\hat{G}_{rxn}^{\\circ}=-3.4$ kJ/gmol under standard conditions. \n",
      "(Note the signs are different). \n",
      "\n",
      "1. What is the equilibrium constant for this reaction under\n",
      "physiological conditions (i.e., $T$ = 37 $^{\\circ}C$)?\n",
      "2. What is the standard entropy of reaction $\\Delta\\hat{S}_{r}^{\\circ}$?\n",
      "3.  If the mole fraction of $PO_{4}^{-3}$ is $4.5\\times10^{-5}$,\n",
      "and the mole fraction of water is about 1, what is the equilibrium\n",
      "ratio of ATP to ADP under physiological conditions?"
     ]
    },
    {
     "cell_type": "heading",
     "level": 2,
     "metadata": {},
     "source": [
      "Problem 3"
     ]
    },
    {
     "cell_type": "markdown",
     "metadata": {},
     "source": [
      "Murphy problem P4.31"
     ]
    },
    {
     "cell_type": "heading",
     "level": 2,
     "metadata": {},
     "source": [
      "Problem 4"
     ]
    },
    {
     "cell_type": "markdown",
     "metadata": {},
     "source": [
      "Murphy problem P4.34"
     ]
    }
   ],
   "metadata": {}
  }
 ]
}