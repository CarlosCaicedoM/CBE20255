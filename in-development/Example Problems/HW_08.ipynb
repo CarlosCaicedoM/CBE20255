{
 "metadata": {
  "name": ""
 },
 "nbformat": 3,
 "nbformat_minor": 0,
 "worksheets": [
  {
   "cells": [
    {
     "cell_type": "markdown",
     "metadata": {},
     "source": [
      "# CBE 20255: Homework 08\n",
      "## Due: March 24, 2014"
     ]
    },
    {
     "cell_type": "heading",
     "level": 2,
     "metadata": {},
     "source": [
      "Problem 1"
     ]
    },
    {
     "cell_type": "markdown",
     "metadata": {},
     "source": [
      "It's a hot summer day in Las Vegas, NV reaching a high temperature of 108 &deg;F and relative humidity of 8%. In the morning you notice dew on cactus needles. Estimate how cold it must of gotten overnight."
     ]
    },
    {
     "cell_type": "heading",
     "level": 2,
     "metadata": {},
     "source": [
      "Problem 2"
     ]
    },
    {
     "cell_type": "markdown",
     "metadata": {},
     "source": [
      "Estimate the boiling point (i.e., saturation temperature) of water at 150 psig using Antoine's equation.  Compare to the data given in the Steam Table shown in Appendix B.6 of the textbook."
     ]
    },
    {
     "cell_type": "heading",
     "level": 2,
     "metadata": {},
     "source": [
      "Problem 3"
     ]
    },
    {
     "cell_type": "markdown",
     "metadata": {},
     "source": [
      "Murphy problem P5.28"
     ]
    },
    {
     "cell_type": "heading",
     "level": 2,
     "metadata": {},
     "source": [
      "Problem 4"
     ]
    },
    {
     "cell_type": "markdown",
     "metadata": {},
     "source": [
      "Murphy problem P5.30"
     ]
    },
    {
     "cell_type": "heading",
     "level": 2,
     "metadata": {},
     "source": [
      "Problem 5"
     ]
    },
    {
     "cell_type": "markdown",
     "metadata": {},
     "source": [
      "Murphy problem P5.46"
     ]
    }
   ],
   "metadata": {}
  }
 ]
}