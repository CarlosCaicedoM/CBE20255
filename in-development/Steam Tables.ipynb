{
 "cells": [
  {
   "cell_type": "markdown",
   "metadata": {},
   "source": [
    "# Steam Tables"
   ]
  },
  {
   "cell_type": "markdown",
   "metadata": {},
   "source": [
    "## Installation"
   ]
  },
  {
   "cell_type": "markdown",
   "metadata": {},
   "source": [
    "[iapws](https://pypi.python.org/pypi/iapws)"
   ]
  },
  {
   "cell_type": "code",
   "execution_count": 6,
   "metadata": {
    "collapsed": false
   },
   "outputs": [
    {
     "name": "stdout",
     "output_type": "stream",
     "text": [
      "Downloading/unpacking https://pypi.python.org/packages/source/i/iapws/iapws-1.0.2.tar.gz\r\n",
      "  Downloading iapws-1.0.2.tar.gz (50kB): \r",
      "  Downloading iapws-1.0.2.tar.gz (50kB):   8%  4.1kB\r",
      "  Downloading iapws-1.0.2.tar.gz (50kB):  16%  8.2kB\r",
      "  Downloading iapws-1.0.2.tar.gz (50kB):  24%  12kB \r",
      "  Downloading iapws-1.0.2.tar.gz (50kB):  32%  16kB\r",
      "  Downloading iapws-1.0.2.tar.gz (50kB):  40%  20kB\r",
      "  Downloading iapws-1.0.2.tar.gz (50kB):  48%  24kB\r",
      "  Downloading iapws-1.0.2.tar.gz (50kB):  56%  28kB\r",
      "  Downloading iapws-1.0.2.tar.gz (50kB):  64%  32kB\r",
      "  Downloading iapws-1.0.2.tar.gz (50kB):  73%  36kB\r",
      "  Downloading iapws-1.0.2.tar.gz (50kB):  81%  40kB\r",
      "  Downloading iapws-1.0.2.tar.gz (50kB):  89%  45kB\r",
      "  Downloading iapws-1.0.2.tar.gz (50kB):  97%  49kB\r",
      "  Downloading iapws-1.0.2.tar.gz (50kB): 100%  50kB\r",
      "  Downloading iapws-1.0.2.tar.gz (50kB):           \r",
      "  Downloading iapws-1.0.2.tar.gz (50kB): 50kB downloaded\r\n",
      "  Running setup.py (path:/var/folders/y2/xt27yn915zx1zxl9ptwbrhfw0000gn/T/pip-08Yz1s-build/setup.py) egg_info for package from https://pypi.python.org/packages/source/i/iapws/iapws-1.0.2.tar.gz\r\n",
      "    \r\n",
      "Cleaning up...\r\n"
     ]
    }
   ],
   "source": [
    "!pip install https://pypi.python.org/packages/source/i/iapws/iapws-1.0.2.tar.gz"
   ]
  },
  {
   "cell_type": "code",
   "execution_count": 20,
   "metadata": {
    "collapsed": false
   },
   "outputs": [],
   "source": [
    "from iapws import IAPWS97"
   ]
  },
  {
   "cell_type": "code",
   "execution_count": 29,
   "metadata": {
    "collapsed": false
   },
   "outputs": [
    {
     "data": {
      "text/plain": [
       "283.621688203311"
      ]
     },
     "execution_count": 29,
     "metadata": {},
     "output_type": "execute_result"
    }
   ],
   "source": [
    "IAPWS97(P=0.101325,T=320).h"
   ]
  },
  {
   "cell_type": "markdown",
   "metadata": {},
   "source": [
    "## Saturated Steam"
   ]
  },
  {
   "cell_type": "code",
   "execution_count": 46,
   "metadata": {
    "collapsed": false
   },
   "outputs": [],
   "source": [
    "def k2c(T): return T-273.15\n",
    "def c2k(T): return T+273.15\n",
    "\n",
    "def f2c(T): return 5.0*(T-32.0)/9\n",
    "def c2f(T): return (9./5)*T + 32\n",
    "\n",
    "def k2f(T): return c2f(k2c(T))\n",
    "def f2k(T): return c2k(f2c(T))"
   ]
  },
  {
   "cell_type": "markdown",
   "metadata": {},
   "source": [
    "See if we can match the data in Appendix B.6, page 660, of Murphy."
   ]
  },
  {
   "cell_type": "code",
   "execution_count": 86,
   "metadata": {
    "collapsed": false
   },
   "outputs": [
    {
     "name": "stdout",
     "output_type": "stream",
     "text": [
      "    0.1    45.81\n",
      "    1.0    99.61\n",
      "    5.0   151.84\n",
      "   10.0   179.89\n",
      "   20.0   212.38\n",
      "   40.0   250.36\n",
      "   60.0   275.59\n",
      "  100.0   311.00\n",
      "  150.0   342.16\n",
      "  200.0   365.75\n",
      "  220.6   373.95\n"
     ]
    }
   ],
   "source": [
    "def Tsat(P): return k2c(IAPWS97(P = P/10.0, x = 0).T)\n",
    "\n",
    "P = [0.1, 1.0, 5.0, 10.0, 20.0, 40.0, 60.0, 100.0, 150.0, 200.0, 220.64]\n",
    "\n",
    "for p in P:\n",
    "    print \"{:7.1f}   {:6.2f}\".format(p,Tsat(p))"
   ]
  },
  {
   "cell_type": "code",
   "execution_count": 87,
   "metadata": {
    "collapsed": false
   },
   "outputs": [],
   "source": [
    "def Psat(T): return (IAPWS97(T = c2k(T), x = 0).P)*10.0"
   ]
  },
  {
   "cell_type": "code",
   "execution_count": 88,
   "metadata": {
    "collapsed": false
   },
   "outputs": [],
   "source": [
    "T = linspace(1,100)\n",
    "P = [Psat(t) for t in T]"
   ]
  },
  {
   "cell_type": "code",
   "execution_count": 89,
   "metadata": {
    "collapsed": false
   },
   "outputs": [
    {
     "data": {
      "text/plain": [
       "[<matplotlib.lines.Line2D at 0x10987d910>]"
      ]
     },
     "execution_count": 89,
     "metadata": {},
     "output_type": "execute_result"
    },
    {
     "data": {
      "image/png": "[encoded data removed]",
      "text/plain": [
       "<matplotlib.figure.Figure at 0x10985f690>"
      ]
     },
     "metadata": {},
     "output_type": "display_data"
    }
   ],
   "source": [
    "plot(T,P)"
   ]
  },
  {
   "cell_type": "code",
   "execution_count": 84,
   "metadata": {
    "collapsed": false
   },
   "outputs": [
    {
     "name": "stdout",
     "output_type": "stream",
     "text": [
      "419.099154998\n",
      "2675.57202922\n"
     ]
    }
   ],
   "source": [
    "T = 100.0\n",
    "print IAPWS97(T = c2k(T), x = 0).h\n",
    "print IAPWS97(T = c2k(T), x = 1).h\n"
   ]
  },
  {
   "cell_type": "code",
   "execution_count": 97,
   "metadata": {
    "collapsed": false
   },
   "outputs": [],
   "source": [
    "a = array([[]])"
   ]
  },
  {
   "cell_type": "code",
   "execution_count": 100,
   "metadata": {
    "collapsed": false
   },
   "outputs": [],
   "source": [
    "\n",
    "T = "
   ]
  },
  {
   "cell_type": "code",
   "execution_count": 101,
   "metadata": {
    "collapsed": false
   },
   "outputs": [
    {
     "data": {
      "text/plain": [
       "array([], shape=(1, 0), dtype=float64)"
      ]
     },
     "metadata": {},
     "output_type": "display_data"
    }
   ],
   "source": [
    "display(a)"
   ]
  },
  {
   "cell_type": "code",
   "execution_count": 116,
   "metadata": {
    "collapsed": false
   },
   "outputs": [
    {
     "name": "stdout",
     "output_type": "stream",
     "text": [
      " 0.1 323.15 209.411798567\n",
      "0.1 373.15 2675.76736721\n",
      "0.1 423.15 2776.59181545\n",
      "0.1 473.15 2875.47506495\n",
      "0.1 523.15 2974.53705806\n",
      "0.1 573.15 3074.54038363\n",
      "0.1 623.15 3175.81739372\n",
      "1.0 323.15 210.187910591\n",
      "1.0 373.15 419.774151851\n",
      "1.0 423.15 632.574919594\n",
      "1.0 473.15 2828.2675376\n",
      "1.0 523.15 2943.22216523\n",
      "1.0 573.15 3051.70318558\n",
      "1.0 623.15 3158.16329436\n",
      "2.0 323.15 211.04993714\n",
      "2.0 373.15 420.525628187\n",
      "2.0 423.15 633.193129569\n",
      "2.0 473.15 852.572483582\n",
      "2.0 523.15 2903.23138912\n",
      "2.0 573.15 3024.25187576\n",
      "2.0 623.15 3137.64121486\n",
      "5.0 323.15 213.633993001\n",
      "5.0 373.15 422.781875119\n",
      "5.0 423.15 635.055399462\n",
      "5.0 473.15 853.80043996\n",
      "5.0 523.15 1085.66199478\n",
      "5.0 573.15 2925.64404236\n",
      "5.0 623.15 3069.29417488\n",
      "10.0 323.15 217.933998578\n",
      "10.0 373.15 426.54802393\n",
      "10.0 423.15 638.183552023\n",
      "10.0 473.15 855.917878999\n",
      "10.0 523.15 1085.71716015\n",
      "10.0 573.15 1343.09660906\n",
      "10.0 623.15 2923.95784687\n",
      "20.0 323.15 226.508658213\n",
      "20.0 373.15 434.099605278\n",
      "20.0 423.15 644.523776837\n",
      "20.0 473.15 860.391147387\n",
      "20.0 523.15 1086.58356466\n",
      "20.0 573.15 1334.13952503\n",
      "20.0 623.15 1645.95105148\n",
      "40.0 323.15 243.556887134\n",
      "40.0 373.15 449.265000273\n",
      "40.0 423.15 657.49149245\n",
      "40.0 473.15 870.124259682\n",
      "40.0 523.15 1090.58628091\n",
      "40.0 573.15 1325.41397293\n",
      "40.0 623.15 1588.7405472\n",
      "60.0 323.15 260.471987901\n",
      "60.0 373.15 464.490271351\n",
      "60.0 423.15 670.769717345\n",
      "60.0 473.15 880.674830699\n",
      "60.0 523.15 1096.71566852\n",
      "60.0 573.15 1323.25139853\n",
      "60.0 623.15 "
     ]
    },
    {
     "ename": "NotImplementedError",
     "evalue": "Incoming out of bound",
     "output_type": "error",
     "traceback": [
      "\u001b[0;31m---------------------------------------------------------------------------\u001b[0m\n\u001b[0;31mNotImplementedError\u001b[0m                       Traceback (most recent call last)",
      "\u001b[0;32m<ipython-input-116-945c266271a7>\u001b[0m in \u001b[0;36m<module>\u001b[0;34m()\u001b[0m\n\u001b[1;32m      5\u001b[0m \u001b[0;32mfor\u001b[0m \u001b[0mp\u001b[0m \u001b[0;32min\u001b[0m \u001b[0mP\u001b[0m\u001b[0;34m:\u001b[0m\u001b[0;34m\u001b[0m\u001b[0m\n\u001b[1;32m      6\u001b[0m     \u001b[0;32mfor\u001b[0m \u001b[0mt\u001b[0m \u001b[0;32min\u001b[0m \u001b[0mT\u001b[0m\u001b[0;34m:\u001b[0m\u001b[0;34m\u001b[0m\u001b[0m\n\u001b[0;32m----> 7\u001b[0;31m         \u001b[0;32mprint\u001b[0m \u001b[0mp\u001b[0m\u001b[0;34m,\u001b[0m\u001b[0mt\u001b[0m\u001b[0;34m,\u001b[0m\u001b[0mIAPWS97\u001b[0m\u001b[0;34m(\u001b[0m\u001b[0mP\u001b[0m\u001b[0;34m=\u001b[0m\u001b[0mp\u001b[0m\u001b[0;34m,\u001b[0m\u001b[0mT\u001b[0m\u001b[0;34m=\u001b[0m\u001b[0mt\u001b[0m\u001b[0;34m)\u001b[0m\u001b[0;34m.\u001b[0m\u001b[0mh\u001b[0m\u001b[0;34m\u001b[0m\u001b[0m\n\u001b[0m",
      "\u001b[0;32m/Applications/anaconda/lib/python2.7/site-packages/iapws.pyc\u001b[0m in \u001b[0;36m__init__\u001b[0;34m(self, T, P, h, s, x)\u001b[0m\n\u001b[1;32m   1940\u001b[0m                 \u001b[0mpropiedades\u001b[0m\u001b[0;34m=\u001b[0m\u001b[0m_Region5\u001b[0m\u001b[0;34m(\u001b[0m\u001b[0mT\u001b[0m\u001b[0;34m,\u001b[0m \u001b[0mP\u001b[0m\u001b[0;34m)\u001b[0m\u001b[0;34m\u001b[0m\u001b[0m\n\u001b[1;32m   1941\u001b[0m             \u001b[0;32melse\u001b[0m\u001b[0;34m:\u001b[0m\u001b[0;34m\u001b[0m\u001b[0m\n\u001b[0;32m-> 1942\u001b[0;31m                 \u001b[0;32mraise\u001b[0m \u001b[0mNotImplementedError\u001b[0m\u001b[0;34m(\u001b[0m\u001b[0;34m\"Incoming out of bound\"\u001b[0m\u001b[0;34m)\u001b[0m\u001b[0;34m\u001b[0m\u001b[0m\n\u001b[0m\u001b[1;32m   1943\u001b[0m \u001b[0;34m\u001b[0m\u001b[0m\n\u001b[1;32m   1944\u001b[0m         \u001b[0;32melif\u001b[0m \u001b[0mP\u001b[0m\u001b[0;34m!=\u001b[0m\u001b[0mNone\u001b[0m \u001b[0;32mand\u001b[0m \u001b[0mh\u001b[0m\u001b[0;34m!=\u001b[0m\u001b[0mNone\u001b[0m\u001b[0;34m:\u001b[0m\u001b[0;34m\u001b[0m\u001b[0m\n",
      "\u001b[0;31mNotImplementedError\u001b[0m: Incoming out of bound"
     ]
    },
    {
     "name": "stdout",
     "output_type": "stream",
     "text": [
      "1567.41203304\n",
      "100.0 323.15 293.916631442\n",
      "100.0 373.15 495.039528624\n",
      "100.0 423.15 698.009807743\n",
      "100.0 473.15 903.51320504\n",
      "100.0 523.15 1113.0310103\n",
      "100.0 573.15 1328.91928876\n",
      "100.0 623.15 1553.92250337\n",
      "150.0 323.15"
     ]
    }
   ],
   "source": [
    "P = [0.1, 1.0, 2.0, 5.0, 10.0, 20.0, 40.0, 60.0, 100.0, 150.0, 200.0, 220.64]\n",
    "T = 273.15 + arange(50,400,50)\n",
    "\n",
    "H = zeros((len(P),len(T)))\n",
    "for p in P:\n",
    "    for t in T:\n",
    "        print p,t,IAPWS97(P=p,T=t).h"
   ]
  },
  {
   "cell_type": "code",
   "execution_count": 108,
   "metadata": {
    "collapsed": false
   },
   "outputs": [
    {
     "data": {
      "text/plain": [
       "array([[ 0.,  0.,  0.,  0.,  0.,  0.,  0.,  0.,  0.,  0.,  0.,  0.,  0.,\n",
       "         0.,  0.,  0.,  0.,  0.,  0.,  0.],\n",
       "       [ 0.,  0.,  0.,  0.,  0.,  0.,  0.,  0.,  0.,  0.,  0.,  0.,  0.,\n",
       "         0.,  0.,  0.,  0.,  0.,  0.,  0.],\n",
       "       [ 0.,  0.,  0.,  0.,  0.,  0.,  0.,  0.,  0.,  0.,  0.,  0.,  0.,\n",
       "         0.,  0.,  0.,  0.,  0.,  0.,  0.],\n",
       "       [ 0.,  0.,  0.,  0.,  0.,  0.,  0.,  0.,  0.,  0.,  0.,  0.,  0.,\n",
       "         0.,  0.,  0.,  0.,  0.,  0.,  0.],\n",
       "       [ 0.,  0.,  0.,  0.,  0.,  0.,  0.,  0.,  0.,  0.,  0.,  0.,  0.,\n",
       "         0.,  0.,  0.,  0.,  0.,  0.,  0.],\n",
       "       [ 0.,  0.,  0.,  0.,  0.,  0.,  0.,  0.,  0.,  0.,  0.,  0.,  0.,\n",
       "         0.,  0.,  0.,  0.,  0.,  0.,  0.],\n",
       "       [ 0.,  0.,  0.,  0.,  0.,  0.,  0.,  0.,  0.,  0.,  0.,  0.,  0.,\n",
       "         0.,  0.,  0.,  0.,  0.,  0.,  0.],\n",
       "       [ 0.,  0.,  0.,  0.,  0.,  0.,  0.,  0.,  0.,  0.,  0.,  0.,  0.,\n",
       "         0.,  0.,  0.,  0.,  0.,  0.,  0.],\n",
       "       [ 0.,  0.,  0.,  0.,  0.,  0.,  0.,  0.,  0.,  0.,  0.,  0.,  0.,\n",
       "         0.,  0.,  0.,  0.,  0.,  0.,  0.],\n",
       "       [ 0.,  0.,  0.,  0.,  0.,  0.,  0.,  0.,  0.,  0.,  0.,  0.,  0.,\n",
       "         0.,  0.,  0.,  0.,  0.,  0.,  0.],\n",
       "       [ 0.,  0.,  0.,  0.,  0.,  0.,  0.,  0.,  0.,  0.,  0.,  0.,  0.,\n",
       "         0.,  0.,  0.,  0.,  0.,  0.,  0.]])"
      ]
     },
     "execution_count": 108,
     "metadata": {},
     "output_type": "execute_result"
    }
   ],
   "source": [
    "H"
   ]
  },
  {
   "cell_type": "code",
   "execution_count": null,
   "metadata": {
    "collapsed": false
   },
   "outputs": [],
   "source": []
  }
 ],
 "metadata": {
  "kernelspec": {
   "display_name": "Python [default]",
   "language": "python",
   "name": "python2"
  },
  "language_info": {
   "codemirror_mode": {
    "name": "ipython",
    "version": 2
   },
   "file_extension": ".py",
   "mimetype": "text/x-python",
   "name": "python",
   "nbconvert_exporter": "python",
   "pygments_lexer": "ipython2",
   "version": "2.7.12"
  }
 },
 "nbformat": 4,
 "nbformat_minor": 1
}
