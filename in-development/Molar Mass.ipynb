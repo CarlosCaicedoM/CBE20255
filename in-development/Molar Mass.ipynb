{
 "cells": [
  {
   "cell_type": "markdown",
   "metadata": {},
   "source": [
    "# Physical Property Data"
   ]
  },
  {
   "cell_type": "markdown",
   "metadata": {},
   "source": [
    "Read data from Google Spreadsheet [CBE20255_Physical_Property_Data](https://docs.google.com/spreadsheets/d/1fqSoo-uQKdTtBxe9jvJF-ScqJjoyfQHk4ovtE_bKPSQ/edit#gid=0)"
   ]
  },
  {
   "cell_type": "code",
   "execution_count": 440,
   "metadata": {
    "collapsed": false
   },
   "outputs": [
    {
     "data": {
      "text/html": [
       "<div style=\"max-height:1000px;max-width:1500px;overflow:auto;\">\n",
       "<table border=\"1\" class=\"dataframe\">\n",
       "  <thead>\n",
       "    <tr style=\"text-align: right;\">\n",
       "      <th></th>\n",
       "      <th>Element</th>\n",
       "      <th>Atomic Number</th>\n",
       "      <th>Atomic Mass</th>\n",
       "    </tr>\n",
       "    <tr>\n",
       "      <th>Symbol</th>\n",
       "      <th></th>\n",
       "      <th></th>\n",
       "      <th></th>\n",
       "    </tr>\n",
       "  </thead>\n",
       "  <tbody>\n",
       "    <tr>\n",
       "      <th>Q</th>\n",
       "      <td>Charge</td>\n",
       "      <td>0</td>\n",
       "      <td>0.000000</td>\n",
       "    </tr>\n",
       "    <tr>\n",
       "      <th>e</th>\n",
       "      <td>Electron</td>\n",
       "      <td>0</td>\n",
       "      <td>0.000000</td>\n",
       "    </tr>\n",
       "    <tr>\n",
       "      <th>H</th>\n",
       "      <td>Hydrogen</td>\n",
       "      <td>1</td>\n",
       "      <td>1.007940</td>\n",
       "    </tr>\n",
       "    <tr>\n",
       "      <th>D</th>\n",
       "      <td>Deuterium</td>\n",
       "      <td>1</td>\n",
       "      <td>2.014102</td>\n",
       "    </tr>\n",
       "    <tr>\n",
       "      <th>T</th>\n",
       "      <td>Tritium</td>\n",
       "      <td>1</td>\n",
       "      <td>3.016049</td>\n",
       "    </tr>\n",
       "  </tbody>\n",
       "</table>\n",
       "</div>"
      ],
      "text/plain": [
       "          Element  Atomic Number  Atomic Mass\n",
       "Symbol                                       \n",
       "Q          Charge              0     0.000000\n",
       "e        Electron              0     0.000000\n",
       "H        Hydrogen              1     1.007940\n",
       "D       Deuterium              1     2.014102\n",
       "T         Tritium              1     3.016049"
      ]
     },
     "execution_count": 440,
     "metadata": {},
     "output_type": "execute_result"
    }
   ],
   "source": [
    "import pandas as pd\n",
    "from StringIO import StringIO\n",
    "import requests\n",
    "\n",
    "url = 'https://docs.google.com/spreadsheet/ccc?key=' \\\n",
    "      + '1fqSoo-uQKdTtBxe9jvJF-ScqJjoyfQHk4ovtE_bKPSQ' \\\n",
    "      + '&output=csv'\n",
    "\n",
    "Elements = pd.read_csv(StringIO(requests.get(url).content), index_col=1)\n",
    "Elements.head()"
   ]
  },
  {
   "cell_type": "code",
   "execution_count": 437,
   "metadata": {
    "collapsed": false,
    "scrolled": false
   },
   "outputs": [
    {
     "data": {
      "text/plain": [
       "<matplotlib.text.Text at 0x110624b10>"
      ]
     },
     "execution_count": 437,
     "metadata": {},
     "output_type": "execute_result"
    },
    {
     "data": {
      "image/png": "[encoded data removed]",
      "text/plain": [
       "<matplotlib.figure.Figure at 0x1108ec950>"
      ]
     },
     "metadata": {},
     "output_type": "display_data"
    }
   ],
   "source": [
    "import matplotlib.pyplot as plt\n",
    "%matplotlib inline\n",
    "\n",
    "plt.plot(Elements['Atomic Number'],Elements['Atomic Mass'],'.')\n",
    "plt.title('Atomic Mass')\n",
    "plt.ylabel('Mass')\n",
    "plt.xlabel('Atomic Number')"
   ]
  },
  {
   "cell_type": "markdown",
   "metadata": {},
   "source": [
    "## Parsing Chemical Formula\n",
    "\n",
    "The standard conventions for writing chemical formulas, such as H<sub>2</sub>O and CH<sub>2</sub>(CH<sub>3</sub>)<sub>6</sub>CH<sub>2</sub>, can be parsed in python and the results used for various calculations.\n"
   ]
  },
  {
   "cell_type": "code",
   "execution_count": 557,
   "metadata": {
    "collapsed": false
   },
   "outputs": [],
   "source": [
    "import re\n",
    "\n",
    "srex = r\"\"\"\n",
    "     (\\([\\w\\(\\)]+\\))   # match recursive group within parentheses\n",
    "    |(A[cglmrstu]|B[aehikr]?|C[adeflmnorsu]?\n",
    "     |D[bsy]?|E[rsu]|F[elmr]?|G[ade]|H[efgos]?|I[nr]?|Kr?\n",
    "     |L[airuv]|M[dgnot]|N[abdeiop]?|Os?|P[abdmortu]?|R[abefghnu]\n",
    "     |S[bcegimnr]?|T[abcehilm]?|U|Uuo|Uup|Uut|V|W|Xe|Yb|Z[nr]?|e)\n",
    "    |(\\d*\\.\\d+|\\d+)    # number of atoms or groups\n",
    "    |([+-])         # charge group integer charge in format +n\n",
    "\"\"\"\n",
    "\n",
    "def parsetokens(tokens, dictstack):\n",
    "    # recursion is finished if there are no more tokens\n",
    "    if len(tokens) == 0:\n",
    "        # consolidate the stack of dictionaries\n",
    "        dsummary = {'Q': 0}\n",
    "        for d in dictstack:\n",
    "            for key in d.keys():\n",
    "                if key in dsummary:\n",
    "                    dsummary[key] += d[key]\n",
    "                else:\n",
    "                    dsummary[key] = d[key]\n",
    "        return dsummary\n",
    "    \n",
    "    # unpack first token\n",
    "    group,symbol,digits,charge = tokens[0]\n",
    "    \n",
    "    # store atomic dictionary for this token on the stack\n",
    "    if group:\n",
    "        dictstack.append(parseformula(group[1:-1]))\n",
    "        \n",
    "    elif symbol:\n",
    "        dictstack.append({symbol: 1})\n",
    "        \n",
    "    elif digits:\n",
    "        for key in dictstack[-1].keys():\n",
    "            dictstack[-1][key] *= float(digits)\n",
    "            \n",
    "    elif charge:\n",
    "        if charge == '+':\n",
    "            dictstack.append({'Q': 1})\n",
    "        elif charge == '-':\n",
    "            dictstack.append({'Q': -1})\n",
    "            \n",
    "    # recursively process remaining tokens\n",
    "    return parsetokens(tokens[1:], dictstack)\n",
    "\n",
    "def parseformula(str):\n",
    "    return parsetokens(re.findall(srex, str, re.VERBOSE),[])\n",
    "            \n",
    "def chemformula(str):\n",
    "    return parseformula(str)\n",
    "\n",
    "def mw(str):\n",
    "    return sum([n*Elements.ix[key]['Atomic Mass'] for (key,n) in parseformula(str).items()])\n",
    "\n",
    "def charge(str):\n",
    "    return parseformula(str)['Q']\n"
   ]
  },
  {
   "cell_type": "code",
   "execution_count": 562,
   "metadata": {
    "collapsed": false,
    "scrolled": false
   },
   "outputs": [
    {
     "name": "stdout",
     "output_type": "stream",
     "text": [
      "Al(OH)2C18H35O2     |  344.471  |  0.0  | {'Q': 0.0, 'H': 37.0, 'C': 18.0, 'Al': 1, 'O': 4.0}\n",
      "D2O                 |   20.028  |  0.0  | {'Q': 0, 'D': 2.0, 'O': 1}\n",
      "C8H18               |  114.231  |  0.0  | {'Q': 0, 'H': 18.0, 'C': 8.0}\n",
      "C6H5NH(COCH3)       |  135.166  |  0.0  | {'Q': 0, 'H': 9.0, 'C': 8.0, 'O': 1, 'N': 1}\n",
      "C20H30O2            |  302.457  |  0.0  | {'Q': 0, 'H': 30.0, 'C': 20.0, 'O': 2.0}\n",
      "C2H4                |   28.054  |  0.0  | {'Q': 0, 'H': 4.0, 'C': 2.0}\n",
      "CH(CH3(CH2)18CH3)3  |  860.679  |  0.0  | {'Q': 0.0, 'H': 127.0, 'C': 61.0}\n",
      "HNO3                |   63.013  |  0.0  | {'Q': 0, 'H': 1, 'O': 3.0, 'N': 1}\n",
      "H+                  |    1.008  |  1.0  | {'Q': 1, 'H': 1}\n",
      "Ca+2                |   40.078  |  2.0  | {'Q': 2.0, 'Ca': 1}\n",
      "OH-                 |   17.007  | -1.0  | {'Q': -1, 'H': 1, 'O': 1}\n",
      "H2                  |    2.016  |  0.0  | {'Q': 0, 'H': 2.0}\n",
      "NO3-                |   62.005  | -1.0  | {'Q': -1, 'O': 3.0, 'N': 1}\n",
      "SO4-2               |   96.064  | -2.0  | {'Q': -2.0, 'S': 1, 'O': 4.0}\n",
      "H2O                 |   18.015  |  0.0  | {'Q': 0, 'H': 2.0, 'O': 1}\n",
      "CH4                 |   16.043  |  0.0  | {'Q': 0, 'H': 4.0, 'C': 1}\n",
      "CH3(CH2)18(CH3)     |   78.366  |  0.0  | {'Q': 0, 'H': 42.0, 'C': 3}\n",
      "H2SO4               |   98.079  |  0.0  | {'Q': 0, 'H': 2.0, 'S': 1, 'O': 4.0}\n",
      "BaCl2               |  208.232  |  0.0  | {'Q': 0, 'Ba': 1, 'Cl': 2.0}\n",
      "NaCl                |   58.442  |  0.0  | {'Q': 0, 'Na': 1, 'Cl': 1}\n",
      "Ca(NO3-)2           |  102.083  | -2.0  | {'Q': -2.0, 'Ca': 1, 'O': 3.0, 'N': 1}\n",
      "C6H5OH              |   94.113  |  0.0  | {'Q': 0, 'H': 6.0, 'C': 6.0, 'O': 1}\n"
     ]
    }
   ],
   "source": [
    "test = [\\\n",
    "    'Al(OH)2C18H35O2',\\\n",
    "    'D2O',\\\n",
    "    'C8H18',\\\n",
    "    'C6H5NH(COCH3)',\\\n",
    "    'C20H30O2',\\\n",
    "    'C2H4',\\\n",
    "    'CH(CH3(CH2)18CH3)3',\\\n",
    "    'HNO3',\\\n",
    "    'H+',\\\n",
    "    'Ca+2',\\\n",
    "    'OH-',\\\n",
    "    'H2',\\\n",
    "    'NO3-',\\\n",
    "    'SO4-2',\\\n",
    "    'H2O',\\\n",
    "    'CH4',\\\n",
    "    'CH3(CH2)18(CH3)',\\\n",
    "    'H2SO4',\\\n",
    "    'BaCl2',\\\n",
    "    'NaCl',\\\n",
    "    'Ca(NO3-)2',\\\n",
    "    'C6H5OH']\n",
    "\n",
    "for t in test:\n",
    "    print \"{0:<20s}| \".format(t),\n",
    "    print \"{0:7.3f}  |\".format(mw(t)),\n",
    "    print \"{0:4.1f}  |\".format(charge(t)),\n",
    "    print parseformula(t)"
   ]
  },
  {
   "cell_type": "code",
   "execution_count": 595,
   "metadata": {
    "collapsed": true
   },
   "outputs": [],
   "source": [
    "test = ['C8H18','O2','CO2','H2O']\n",
    "\n",
    "stoich = {}\n",
    "for t in test:\n",
    "    p = parseformula(t)\n",
    "    for key in p.keys():\n",
    "        stoich[t,key] = p[key]\n",
    "    \n",
    "    "
   ]
  },
  {
   "cell_type": "code",
   "execution_count": 596,
   "metadata": {
    "collapsed": false
   },
   "outputs": [],
   "source": [
    "import numpy as np\n",
    "\n",
    "atoms = sorted(set([a for s,a in stoich.keys()]))\n",
    "species = sorted(set([s for s,a in stoich.keys()]))"
   ]
  },
  {
   "cell_type": "code",
   "execution_count": 597,
   "metadata": {
    "collapsed": false
   },
   "outputs": [
    {
     "name": "stdout",
     "output_type": "stream",
     "text": [
      "                       C     H     O     Q\n",
      "C8H18                  8    18     0     0\n",
      "CO2                    1     0     2     0\n",
      "H2O                    0     2     1     0\n",
      "O2                     0     0     2     0\n"
     ]
    }
   ],
   "source": [
    "print \"{0:<18s}\".format(''),\n",
    "for a in atoms:\n",
    "    print \"{0:>5s}\".format(a),\n",
    "print\n",
    "for s in species:\n",
    "    print \"{0:<18s}\".format(s),\n",
    "    for a in atoms:\n",
    "        if (s,a) in stoich:\n",
    "            print \"{0:5.0f}\".format(stoich[s,a]),\n",
    "        else:\n",
    "            print \"{0:5.0f}\".format(0),\n",
    "    print"
   ]
  },
  {
   "cell_type": "code",
   "execution_count": null,
   "metadata": {
    "collapsed": true
   },
   "outputs": [],
   "source": []
  }
 ],
 "metadata": {
  "kernelspec": {
   "display_name": "Python 2",
   "language": "python",
   "name": "python2"
  },
  "language_info": {
   "codemirror_mode": {
    "name": "ipython",
    "version": 2
   },
   "file_extension": ".py",
   "mimetype": "text/x-python",
   "name": "python",
   "nbconvert_exporter": "python",
   "pygments_lexer": "ipython2",
   "version": "2.7.9"
  }
 },
 "nbformat": 4,
 "nbformat_minor": 0
}
