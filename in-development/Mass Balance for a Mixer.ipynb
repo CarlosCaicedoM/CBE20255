{
 "metadata": {
  "name": ""
 },
 "nbformat": 3,
 "nbformat_minor": 0,
 "worksheets": [
  {
   "cells": [
    {
     "cell_type": "heading",
     "level": 1,
     "metadata": {},
     "source": [
      "Mass Balance for a Mixer"
     ]
    },
    {
     "cell_type": "heading",
     "level": 2,
     "metadata": {},
     "source": [
      "Problem Statement"
     ]
    },
    {
     "cell_type": "heading",
     "level": 2,
     "metadata": {},
     "source": [
      "Solution"
     ]
    },
    {
     "cell_type": "markdown",
     "metadata": {},
     "source": [
      "Import the Sympy symbolic algebra package, and initialize printing of mathematics."
     ]
    },
    {
     "cell_type": "code",
     "collapsed": false,
     "input": [
      "from IPython.display import display\n",
      "from sympy import *\n",
      "init_printing()"
     ],
     "language": "python",
     "metadata": {},
     "outputs": [],
     "prompt_number": 1
    },
    {
     "cell_type": "heading",
     "level": 3,
     "metadata": {},
     "source": [
      "Stream Variables"
     ]
    },
    {
     "cell_type": "code",
     "collapsed": false,
     "input": [
      "var('S1 W1 W2 S3 W3')"
     ],
     "language": "python",
     "metadata": {},
     "outputs": [
      {
       "latex": [
        "$$\\begin{pmatrix}S_{1}, & W_{1}, & W_{2}, & S_{3}, & W_{3}\\end{pmatrix}$$"
       ],
       "metadata": {},
       "output_type": "pyout",
       "png": "[encoded data removed]",
       "prompt_number": 2,
       "text": [
        "(S\u2081, W\u2081, W\u2082, S\u2083, W\u2083)"
       ]
      }
     ],
     "prompt_number": 2
    },
    {
     "cell_type": "heading",
     "level": 3,
     "metadata": {},
     "source": [
      "Equations"
     ]
    },
    {
     "cell_type": "heading",
     "level": 4,
     "metadata": {},
     "source": [
      "Mass Balances"
     ]
    },
    {
     "cell_type": "code",
     "collapsed": false,
     "input": [
      "mbal = [Eq(0, S1 - S3),\n",
      "        Eq(0, W1 + W2 - W3 )]"
     ],
     "language": "python",
     "metadata": {},
     "outputs": [],
     "prompt_number": 3
    },
    {
     "cell_type": "heading",
     "level": 4,
     "metadata": {},
     "source": [
      "Feed composition specifications"
     ]
    },
    {
     "cell_type": "markdown",
     "metadata": {},
     "source": [
      "Specify compositions of the inlet streams"
     ]
    },
    {
     "cell_type": "code",
     "collapsed": false,
     "input": [
      "comp = [Eq(S1, 0.77*(S1 + W1)),\n",
      "        Eq(S3, 0.186*(S3 + W3))]"
     ],
     "language": "python",
     "metadata": {},
     "outputs": [],
     "prompt_number": 8
    },
    {
     "cell_type": "heading",
     "level": 4,
     "metadata": {},
     "source": [
      "Production rate specification"
     ]
    },
    {
     "cell_type": "code",
     "collapsed": false,
     "input": [
      "prod = [Eq(S3 + W3, 200)]"
     ],
     "language": "python",
     "metadata": {},
     "outputs": [],
     "prompt_number": 5
    },
    {
     "cell_type": "code",
     "collapsed": false,
     "input": [
      "eqns = mbal + comp + prod\n",
      "\n",
      "for eq in eqns:\n",
      "    display(eq)\n"
     ],
     "language": "python",
     "metadata": {},
     "outputs": [
      {
       "latex": [
        "$$0 = S_{1} - S_{3}$$"
       ],
       "metadata": {},
       "output_type": "display_data",
       "png": "[encoded data removed]",
       "text": [
        "0 = S\u2081 - S\u2083"
       ]
      },
      {
       "latex": [
        "$$0 = W_{1} + W_{2} - W_{3}$$"
       ],
       "metadata": {},
       "output_type": "display_data",
       "png": "[encoded data removed]",
       "text": [
        "0 = W\u2081 + W\u2082 - W\u2083"
       ]
      },
      {
       "latex": [
        "$$S_{1} = 0.77 S_{1} + 0.77 W_{1}$$"
       ],
       "metadata": {},
       "output_type": "display_data",
       "png": "[encoded data removed]",
       "text": [
        "S\u2081 = 0.77\u22c5S\u2081 + 0.77\u22c5W\u2081"
       ]
      },
      {
       "latex": [
        "$$S_{3} = 0.186 S_{3} + 0.186 W_{3}$$"
       ],
       "metadata": {},
       "output_type": "display_data",
       "png": "[encoded data removed]",
       "text": [
        "S\u2083 = 0.186\u22c5S\u2083 + 0.186\u22c5W\u2083"
       ]
      },
      {
       "latex": [
        "$$S_{3} + W_{3} = 200$$"
       ],
       "metadata": {},
       "output_type": "display_data",
       "png": "[encoded data removed]",
       "text": [
        "S\u2083 + W\u2083 = 200"
       ]
      }
     ],
     "prompt_number": 6
    },
    {
     "cell_type": "heading",
     "level": 3,
     "metadata": {},
     "source": [
      "Solve and Display Solution"
     ]
    },
    {
     "cell_type": "code",
     "collapsed": false,
     "input": [
      "soln = solve(eqns)\n",
      "soln"
     ],
     "language": "python",
     "metadata": {},
     "outputs": [
      {
       "latex": [
        "$$\\begin{Bmatrix}S_{1} : 37.2, & S_{3} : 37.2, & W_{1} : 11.1116883116883, & W_{2} : 151.688311688312, & W_{3} : 162.8\\end{Bmatrix}$$"
       ],
       "metadata": {},
       "output_type": "pyout",
       "png": "[encoded data removed]",
       "prompt_number": 9,
       "text": [
        "{S\u2081: 37.2, S\u2083: 37.2, W\u2081: 11.1116883116883, W\u2082: 151.688311688312, W\u2083: 162.8}"
       ]
      }
     ],
     "prompt_number": 9
    },
    {
     "cell_type": "code",
     "collapsed": false,
     "input": [
      "for (k,v) in soln.items():\n",
      "    print \"{:s} = {:6.2f} kg/day\".format(k,float(v))"
     ],
     "language": "python",
     "metadata": {},
     "outputs": [
      {
       "output_type": "stream",
       "stream": "stdout",
       "text": [
        "S1 =  37.20 kg/day\n",
        "W3 = 162.80 kg/day\n",
        "W1 =  11.11 kg/day\n",
        "S3 =  37.20 kg/day\n",
        "W2 = 151.69 kg/day\n"
       ]
      }
     ],
     "prompt_number": 10
    },
    {
     "cell_type": "code",
     "collapsed": false,
     "input": [],
     "language": "python",
     "metadata": {},
     "outputs": []
    }
   ],
   "metadata": {}
  }
 ]
}