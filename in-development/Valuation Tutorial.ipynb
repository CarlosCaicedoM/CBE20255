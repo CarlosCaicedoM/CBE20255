{
 "metadata": {
  "name": ""
 },
 "nbformat": 3,
 "nbformat_minor": 0,
 "worksheets": [
  {
   "cells": [
    {
     "cell_type": "heading",
     "level": 1,
     "metadata": {},
     "source": [
      "A Tutorial Introduction to Valuation for Chemical Engineeers"
     ]
    },
    {
     "cell_type": "markdown",
     "metadata": {},
     "source": [
      "What determines the value of a chemical process? \n",
      "\n",
      "The methods used for process valuation have profound implications for chemical engineering design and operations. For example, it is easy to understand that a process that can use multiple feedstocks should have higher value than one that cannot, but how much should one pay for that flexibility? When does it make financial sense for a process operator 'cut losses' in a challenging market, or continue operations and wait for the market to improve? What difference does it make to operations and design if operating profits are driven by increased demand as opposed to lower raw material costs?\n",
      "\n",
      "By process value we mean the price that a profit seeking public corporation or private party is willing to pay for the right to operate the process. The right to operate might be through ownership or lease of the captial assets, and includes all of the normal risks associated with operation including uncertain prices for raw materials, and uncertain demand for products.\n",
      "\n",
      "The capital markets, of course, ultimately determine value through a successful negiotiation on the price a buyer pays to willing seller. What we seek here are rational means estimating price through consideration of how the process would be operated to maximize its financial return. A realistic analysis must include both earnings and financial risk, for the price an ower will pay is a sensitive function of both aspects of financial return.\n",
      "\n",
      "Chemical engineers are traditionally taught to value processes based on the cost of construction and the profit expected to be returned through normal operations. To determine an acceptable price, the various cash flows are discounted to reflect the time value of money, then combined to determine the net present value (NPV). On the other hand, to determine whether a particular price represents an acceptable investment, the discount rates are adjusted to arrive at an 'internal rate of return' (IRR) which is then compared to a required 'hurdle rate'. These techniques are widely used in the process industries, and standard feature of chemical engineering curricula.\n",
      "\n",
      "NPV and IRR, however, have serious conceptual defects for use in an uncertain world. As these notes will attempt to show, naive use of NPV and IRR can lead to poor engineering decisions. In particular, process flexibility, the strategic option to cut losses through interrupting or abandoning  process operations, and the ability of an owner to manage financial risk, can offer significant additional value that can be entirely overlooked by traditional NPV/IRR techniques.\n",
      "\n",
      "The following notes will review the basic assumptions behind NPV/IRR valuation by interpreting these techniques in terms of 'arbitrage-free' with a 'replicating portfolio' of bonds. Using the notion of 'real options', this approach is extended to the case of uncertain prices using a binary lattice model. The final example will show how uncertain demand can dramatically alter operational decisions and process valuation.\n",
      "\n",
      "While no simple model can capture full range of considerations that affect process valuation, these notes will be successful if the reader gains a better understanding of the profound role of uncertainty in process valuation, and the important role for chemical engineers in designing and operating process that create value.\n"
     ]
    },
    {
     "cell_type": "heading",
     "level": 2,
     "metadata": {},
     "source": [
      "There's No Such Thing as a Free Lunch"
     ]
    },
    {
     "cell_type": "markdown",
     "metadata": {},
     "source": [
      "References: Heinlein, \"The Moon is a Harsh Mistress\" and Milton Freidman, \"There's No Such Thing as a Free Lunch\", 1975.\n",
      "\n",
      "It takes money to money.  If you don't have any money to start with, then you're not going to have any money when you finish.\n",
      "\n",
      "Suppose there is someone selling a concrete, ironclad promise of money, let's call it $C_1$, to be delivered to you 1 year from now. If you wish to buy that promise, when way to do so is to borrow the money from a bank at an interest rate $r$ with the promise to pay back the loan when the money arrives. So at $t=0$ your portfolio consists of a bank loan in an amount $I_0$ that will be paid back at $t=1$.\n",
      "\n",
      "At $t = $ one owns the loan with value $L_0$, the promise which we're trying to value $V_0$. At $t=1$ just after the cash arrives but before settlement of the loan, one owns the bank loan $L_1$, the cash $C_1$, and the residual value of the promise $V_1$. But the value\n",
      "\n",
      "$$\n",
      "\\begin{align*}\n",
      "0 & = L_0 + V_0 \\\\\n",
      "0 & = L_1 + V_1 + C_1\n",
      "\\end{align*}\n",
      "$$\n",
      "\n",
      "Since the cash has been paid, the residual value of the promise is zero, so $V_1 = 0$. by terms of the loan agreement, $L_1 = (1+r)L_0$. This yields \n",
      "\n",
      "$$\n",
      "V_0 = \\frac{1}{1+r}C_1\n",
      "$$\n",
      "\n"
     ]
    },
    {
     "cell_type": "code",
     "collapsed": false,
     "input": [
      "N = 30\n",
      "\n",
      "C = ones(N)\n",
      "C[1:len(C)] = 1000*rand((len(C)-1))\n",
      "figure(figsize=(10,3))\n",
      "bar(range(len(C)),C,color='g')"
     ],
     "language": "python",
     "metadata": {},
     "outputs": [
      {
       "metadata": {},
       "output_type": "pyout",
       "prompt_number": 43,
       "text": [
        "<Container object of 30 artists>"
       ]
      },
      {
       "metadata": {},
       "output_type": "display_data",
       "png": "[encoded data removed]",
       "text": [
        "<matplotlib.figure.Figure at 0x10d1888d0>"
       ]
      }
     ],
     "prompt_number": 43
    },
    {
     "cell_type": "code",
     "collapsed": false,
     "input": [
      "C[1:10] = 1000*rand(10)"
     ],
     "language": "python",
     "metadata": {},
     "outputs": []
    },
    {
     "cell_type": "code",
     "collapsed": false,
     "input": [],
     "language": "python",
     "metadata": {},
     "outputs": [
      {
       "metadata": {},
       "output_type": "pyout",
       "prompt_number": 8,
       "text": [
        "<Container object of 10 artists>"
       ]
      },
      {
       "metadata": {},
       "output_type": "display_data",
       "png": "[encoded data removed]",
       "text": [
        "<matplotlib.figure.Figure at 0x10bd258d0>"
       ]
      }
     ],
     "prompt_number": 8
    },
    {
     "cell_type": "code",
     "collapsed": false,
     "input": [],
     "language": "python",
     "metadata": {},
     "outputs": []
    }
   ],
   "metadata": {}
  }
 ]
}