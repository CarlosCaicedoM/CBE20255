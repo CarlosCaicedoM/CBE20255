{
 "metadata": {
  "name": ""
 },
 "nbformat": 3,
 "nbformat_minor": 0,
 "worksheets": [
  {
   "cells": [
    {
     "cell_type": "heading",
     "level": 1,
     "metadata": {},
     "source": [
      "Valuation of the HDA Process for the Production of Benzene from Toluene"
     ]
    },
    {
     "cell_type": "markdown",
     "metadata": {},
     "source": [
      "Some basic calculations."
     ]
    },
    {
     "cell_type": "code",
     "collapsed": false,
     "input": [
      "P = dict()\n",
      "P['Benzene'] = 1431\n",
      "P['Toluene'] = 1290"
     ],
     "language": "python",
     "metadata": {},
     "outputs": [],
     "prompt_number": 7
    },
    {
     "cell_type": "code",
     "collapsed": false,
     "input": [
      "P"
     ],
     "language": "python",
     "metadata": {},
     "outputs": [
      {
       "metadata": {},
       "output_type": "pyout",
       "prompt_number": 8,
       "text": [
        "{'Benzene': 1431, 'Toluene': 1290}"
       ]
      }
     ],
     "prompt_number": 8
    },
    {
     "cell_type": "code",
     "collapsed": false,
     "input": [
      "import pandas\n",
      "prices = pandas.read_csv('TolBenNGPrices.csv', index_col = 0)"
     ],
     "language": "python",
     "metadata": {},
     "outputs": [],
     "prompt_number": 4
    },
    {
     "cell_type": "code",
     "collapsed": false,
     "input": [
      "prices"
     ],
     "language": "python",
     "metadata": {},
     "outputs": [
      {
       "html": [
        "<div style=\"max-height:1000px;max-width:1500px;overflow:auto;\">\n",
        "<table border=\"1\" class=\"dataframe\">\n",
        "  <thead>\n",
        "    <tr style=\"text-align: right;\">\n",
        "      <th></th>\n",
        "      <th>Benzene</th>\n",
        "      <th>Toluene Blend</th>\n",
        "      <th>Natural Gas</th>\n",
        "    </tr>\n",
        "    <tr>\n",
        "      <th>Prices</th>\n",
        "      <th></th>\n",
        "      <th></th>\n",
        "      <th></th>\n",
        "    </tr>\n",
        "  </thead>\n",
        "  <tbody>\n",
        "    <tr>\n",
        "      <th>11-Feb</th>\n",
        "      <td> 4.2866</td>\n",
        "      <td> 2.9730</td>\n",
        "      <td> 5.77</td>\n",
        "    </tr>\n",
        "    <tr>\n",
        "      <th>11-Mar</th>\n",
        "      <td> 4.0488</td>\n",
        "      <td> 3.3708</td>\n",
        "      <td> 5.21</td>\n",
        "    </tr>\n",
        "    <tr>\n",
        "      <th>11-Apr</th>\n",
        "      <td> 4.1338</td>\n",
        "      <td> 4.2003</td>\n",
        "      <td> 5.34</td>\n",
        "    </tr>\n",
        "    <tr>\n",
        "      <th>11-May</th>\n",
        "      <td> 4.1219</td>\n",
        "      <td> 3.6000</td>\n",
        "      <td> 5.21</td>\n",
        "    </tr>\n",
        "    <tr>\n",
        "      <th>11-Jun</th>\n",
        "      <td> 3.7910</td>\n",
        "      <td> 3.5714</td>\n",
        "      <td> 5.21</td>\n",
        "    </tr>\n",
        "    <tr>\n",
        "      <th>11-Jul</th>\n",
        "      <td> 3.9963</td>\n",
        "      <td> 4.0194</td>\n",
        "      <td> 5.05</td>\n",
        "    </tr>\n",
        "    <tr>\n",
        "      <th>11-Aug</th>\n",
        "      <td> 4.0838</td>\n",
        "      <td> 3.6853</td>\n",
        "      <td> 5.21</td>\n",
        "    </tr>\n",
        "    <tr>\n",
        "      <th>11-Sep</th>\n",
        "      <td> 3.7060</td>\n",
        "      <td> 3.3577</td>\n",
        "      <td> 4.84</td>\n",
        "    </tr>\n",
        "    <tr>\n",
        "      <th>11-Oct</th>\n",
        "      <td> 3.1713</td>\n",
        "      <td> 3.3020</td>\n",
        "      <td> 4.71</td>\n",
        "    </tr>\n",
        "    <tr>\n",
        "      <th>11-Nov</th>\n",
        "      <td> 3.1056</td>\n",
        "      <td> 3.0904</td>\n",
        "      <td> 4.64</td>\n",
        "    </tr>\n",
        "    <tr>\n",
        "      <th>11-Dec</th>\n",
        "      <td> 3.3738</td>\n",
        "      <td> 3.2395</td>\n",
        "      <td> 4.59</td>\n",
        "    </tr>\n",
        "    <tr>\n",
        "      <th>12-Jan</th>\n",
        "      <td> 4.0450</td>\n",
        "      <td> 3.6006</td>\n",
        "      <td> 4.59</td>\n",
        "    </tr>\n",
        "    <tr>\n",
        "      <th>12-Feb</th>\n",
        "      <td> 4.1650</td>\n",
        "      <td> 3.7538</td>\n",
        "      <td> 4.19</td>\n",
        "    </tr>\n",
        "    <tr>\n",
        "      <th>12-Mar</th>\n",
        "      <td> 4.1575</td>\n",
        "      <td> 3.9608</td>\n",
        "      <td> 3.71</td>\n",
        "    </tr>\n",
        "    <tr>\n",
        "      <th>12-Apr</th>\n",
        "      <td> 4.1425</td>\n",
        "      <td> 4.3428</td>\n",
        "      <td> 3.21</td>\n",
        "    </tr>\n",
        "    <tr>\n",
        "      <th>12-May</th>\n",
        "      <td> 4.0600</td>\n",
        "      <td> 4.2330</td>\n",
        "      <td> 3.02</td>\n",
        "    </tr>\n",
        "    <tr>\n",
        "      <th>12-Jun</th>\n",
        "      <td> 4.1463</td>\n",
        "      <td> 3.9933</td>\n",
        "      <td> 3.34</td>\n",
        "    </tr>\n",
        "    <tr>\n",
        "      <th>12-Jul</th>\n",
        "      <td> 4.6675</td>\n",
        "      <td> 4.2367</td>\n",
        "      <td> 3.60</td>\n",
        "    </tr>\n",
        "    <tr>\n",
        "      <th>12-Aug</th>\n",
        "      <td> 4.3400</td>\n",
        "      <td> 4.2641</td>\n",
        "      <td> 3.83</td>\n",
        "    </tr>\n",
        "    <tr>\n",
        "      <th>12-Sep</th>\n",
        "      <td> 4.3456</td>\n",
        "      <td> 4.3466</td>\n",
        "      <td> 3.56</td>\n",
        "    </tr>\n",
        "    <tr>\n",
        "      <th>12-Oct</th>\n",
        "      <td> 4.7313</td>\n",
        "      <td> 3.8967</td>\n",
        "      <td> 3.95</td>\n",
        "    </tr>\n",
        "    <tr>\n",
        "      <th>12-Nov</th>\n",
        "      <td> 4.8745</td>\n",
        "      <td> 3.1773</td>\n",
        "      <td> 4.46</td>\n",
        "    </tr>\n",
        "    <tr>\n",
        "      <th>12-Dec</th>\n",
        "      <td> 5.1258</td>\n",
        "      <td> 3.2948</td>\n",
        "      <td> 4.72</td>\n",
        "    </tr>\n",
        "    <tr>\n",
        "      <th>13-Jan</th>\n",
        "      <td> 4.9331</td>\n",
        "      <td> 3.8594</td>\n",
        "      <td> 4.60</td>\n",
        "    </tr>\n",
        "  </tbody>\n",
        "</table>\n",
        "<p>24 rows \u00d7 3 columns</p>\n",
        "</div>"
       ],
       "metadata": {},
       "output_type": "pyout",
       "prompt_number": 8,
       "text": [
        "        Benzene  Toluene Blend  Natural Gas\n",
        "Prices                                     \n",
        "11-Feb   4.2866         2.9730         5.77\n",
        "11-Mar   4.0488         3.3708         5.21\n",
        "11-Apr   4.1338         4.2003         5.34\n",
        "11-May   4.1219         3.6000         5.21\n",
        "11-Jun   3.7910         3.5714         5.21\n",
        "11-Jul   3.9963         4.0194         5.05\n",
        "11-Aug   4.0838         3.6853         5.21\n",
        "11-Sep   3.7060         3.3577         4.84\n",
        "11-Oct   3.1713         3.3020         4.71\n",
        "11-Nov   3.1056         3.0904         4.64\n",
        "11-Dec   3.3738         3.2395         4.59\n",
        "12-Jan   4.0450         3.6006         4.59\n",
        "12-Feb   4.1650         3.7538         4.19\n",
        "12-Mar   4.1575         3.9608         3.71\n",
        "12-Apr   4.1425         4.3428         3.21\n",
        "12-May   4.0600         4.2330         3.02\n",
        "12-Jun   4.1463         3.9933         3.34\n",
        "12-Jul   4.6675         4.2367         3.60\n",
        "12-Aug   4.3400         4.2641         3.83\n",
        "12-Sep   4.3456         4.3466         3.56\n",
        "12-Oct   4.7313         3.8967         3.95\n",
        "12-Nov   4.8745         3.1773         4.46\n",
        "12-Dec   5.1258         3.2948         4.72\n",
        "13-Jan   4.9331         3.8594         4.60\n",
        "\n",
        "[24 rows x 3 columns]"
       ]
      }
     ],
     "prompt_number": 8
    },
    {
     "cell_type": "code",
     "collapsed": false,
     "input": [
      "prices.plot()"
     ],
     "language": "python",
     "metadata": {},
     "outputs": [
      {
       "metadata": {},
       "output_type": "pyout",
       "prompt_number": 9,
       "text": [
        "<matplotlib.axes.AxesSubplot at 0x1096df850>"
       ]
      },
      {
       "metadata": {},
       "output_type": "display_data",
       "png": "[encoded data removed]",
       "text": [
        "<matplotlib.figure.Figure at 0x1096df250>"
       ]
      }
     ],
     "prompt_number": 9
    },
    {
     "cell_type": "code",
     "collapsed": false,
     "input": [
      "returns = dict()\n",
      "\n",
      "for c in list(prices.columns):\n",
      "    returns[c] = log(prices[:][c]) - log(prices[:][c].shift(1))"
     ],
     "language": "python",
     "metadata": {},
     "outputs": [],
     "prompt_number": 22
    },
    {
     "cell_type": "code",
     "collapsed": false,
     "input": [
      "returns = pandas.DataFrame(returns)"
     ],
     "language": "python",
     "metadata": {},
     "outputs": [],
     "prompt_number": 23
    },
    {
     "cell_type": "code",
     "collapsed": false,
     "input": [
      "returns"
     ],
     "language": "python",
     "metadata": {},
     "outputs": [
      {
       "html": [
        "<div style=\"max-height:1000px;max-width:1500px;overflow:auto;\">\n",
        "<table border=\"1\" class=\"dataframe\">\n",
        "  <thead>\n",
        "    <tr style=\"text-align: right;\">\n",
        "      <th></th>\n",
        "      <th>Benzene</th>\n",
        "      <th>Natural Gas</th>\n",
        "      <th>Toluene Blend</th>\n",
        "    </tr>\n",
        "    <tr>\n",
        "      <th>Prices</th>\n",
        "      <th></th>\n",
        "      <th></th>\n",
        "      <th></th>\n",
        "    </tr>\n",
        "  </thead>\n",
        "  <tbody>\n",
        "    <tr>\n",
        "      <th>11-Feb</th>\n",
        "      <td>      NaN</td>\n",
        "      <td>      NaN</td>\n",
        "      <td>      NaN</td>\n",
        "    </tr>\n",
        "    <tr>\n",
        "      <th>11-Mar</th>\n",
        "      <td>-0.057073</td>\n",
        "      <td>-0.102092</td>\n",
        "      <td> 0.125579</td>\n",
        "    </tr>\n",
        "    <tr>\n",
        "      <th>11-Apr</th>\n",
        "      <td> 0.020777</td>\n",
        "      <td> 0.024646</td>\n",
        "      <td> 0.220006</td>\n",
        "    </tr>\n",
        "    <tr>\n",
        "      <th>11-May</th>\n",
        "      <td>-0.002883</td>\n",
        "      <td>-0.024646</td>\n",
        "      <td>-0.154222</td>\n",
        "    </tr>\n",
        "    <tr>\n",
        "      <th>11-Jun</th>\n",
        "      <td>-0.083684</td>\n",
        "      <td> 0.000000</td>\n",
        "      <td>-0.007976</td>\n",
        "    </tr>\n",
        "    <tr>\n",
        "      <th>11-Jul</th>\n",
        "      <td> 0.052739</td>\n",
        "      <td>-0.031192</td>\n",
        "      <td> 0.118175</td>\n",
        "    </tr>\n",
        "    <tr>\n",
        "      <th>11-Aug</th>\n",
        "      <td> 0.021659</td>\n",
        "      <td> 0.031192</td>\n",
        "      <td>-0.086781</td>\n",
        "    </tr>\n",
        "    <tr>\n",
        "      <th>11-Sep</th>\n",
        "      <td>-0.097075</td>\n",
        "      <td>-0.073665</td>\n",
        "      <td>-0.093096</td>\n",
        "    </tr>\n",
        "    <tr>\n",
        "      <th>11-Oct</th>\n",
        "      <td>-0.155812</td>\n",
        "      <td>-0.027227</td>\n",
        "      <td>-0.016728</td>\n",
        "    </tr>\n",
        "    <tr>\n",
        "      <th>11-Nov</th>\n",
        "      <td>-0.020935</td>\n",
        "      <td>-0.014974</td>\n",
        "      <td>-0.066228</td>\n",
        "    </tr>\n",
        "    <tr>\n",
        "      <th>11-Dec</th>\n",
        "      <td> 0.082833</td>\n",
        "      <td>-0.010834</td>\n",
        "      <td> 0.047118</td>\n",
        "    </tr>\n",
        "    <tr>\n",
        "      <th>12-Jan</th>\n",
        "      <td> 0.181442</td>\n",
        "      <td> 0.000000</td>\n",
        "      <td> 0.105682</td>\n",
        "    </tr>\n",
        "    <tr>\n",
        "      <th>12-Feb</th>\n",
        "      <td> 0.029235</td>\n",
        "      <td>-0.091179</td>\n",
        "      <td> 0.041668</td>\n",
        "    </tr>\n",
        "    <tr>\n",
        "      <th>12-Mar</th>\n",
        "      <td>-0.001802</td>\n",
        "      <td>-0.121669</td>\n",
        "      <td> 0.053677</td>\n",
        "    </tr>\n",
        "    <tr>\n",
        "      <th>12-Apr</th>\n",
        "      <td>-0.003614</td>\n",
        "      <td>-0.144761</td>\n",
        "      <td> 0.092073</td>\n",
        "    </tr>\n",
        "    <tr>\n",
        "      <th>12-May</th>\n",
        "      <td>-0.020116</td>\n",
        "      <td>-0.061014</td>\n",
        "      <td>-0.025608</td>\n",
        "    </tr>\n",
        "    <tr>\n",
        "      <th>12-Jun</th>\n",
        "      <td> 0.021033</td>\n",
        "      <td> 0.100714</td>\n",
        "      <td>-0.058293</td>\n",
        "    </tr>\n",
        "    <tr>\n",
        "      <th>12-Jul</th>\n",
        "      <td> 0.118407</td>\n",
        "      <td> 0.074963</td>\n",
        "      <td> 0.059167</td>\n",
        "    </tr>\n",
        "    <tr>\n",
        "      <th>12-Aug</th>\n",
        "      <td>-0.072749</td>\n",
        "      <td> 0.061931</td>\n",
        "      <td> 0.006446</td>\n",
        "    </tr>\n",
        "    <tr>\n",
        "      <th>12-Sep</th>\n",
        "      <td> 0.001289</td>\n",
        "      <td>-0.073104</td>\n",
        "      <td> 0.019163</td>\n",
        "    </tr>\n",
        "    <tr>\n",
        "      <th>12-Oct</th>\n",
        "      <td> 0.085036</td>\n",
        "      <td> 0.103955</td>\n",
        "      <td>-0.109264</td>\n",
        "    </tr>\n",
        "    <tr>\n",
        "      <th>12-Nov</th>\n",
        "      <td> 0.029818</td>\n",
        "      <td> 0.121433</td>\n",
        "      <td>-0.204098</td>\n",
        "    </tr>\n",
        "    <tr>\n",
        "      <th>12-Dec</th>\n",
        "      <td> 0.050269</td>\n",
        "      <td> 0.056660</td>\n",
        "      <td> 0.036314</td>\n",
        "    </tr>\n",
        "    <tr>\n",
        "      <th>13-Jan</th>\n",
        "      <td>-0.038319</td>\n",
        "      <td>-0.025752</td>\n",
        "      <td> 0.158166</td>\n",
        "    </tr>\n",
        "  </tbody>\n",
        "</table>\n",
        "<p>24 rows \u00d7 3 columns</p>\n",
        "</div>"
       ],
       "metadata": {},
       "output_type": "pyout",
       "prompt_number": 24,
       "text": [
        "         Benzene  Natural Gas  Toluene Blend\n",
        "Prices                                      \n",
        "11-Feb       NaN          NaN            NaN\n",
        "11-Mar -0.057073    -0.102092       0.125579\n",
        "11-Apr  0.020777     0.024646       0.220006\n",
        "11-May -0.002883    -0.024646      -0.154222\n",
        "11-Jun -0.083684     0.000000      -0.007976\n",
        "11-Jul  0.052739    -0.031192       0.118175\n",
        "11-Aug  0.021659     0.031192      -0.086781\n",
        "11-Sep -0.097075    -0.073665      -0.093096\n",
        "11-Oct -0.155812    -0.027227      -0.016728\n",
        "11-Nov -0.020935    -0.014974      -0.066228\n",
        "11-Dec  0.082833    -0.010834       0.047118\n",
        "12-Jan  0.181442     0.000000       0.105682\n",
        "12-Feb  0.029235    -0.091179       0.041668\n",
        "12-Mar -0.001802    -0.121669       0.053677\n",
        "12-Apr -0.003614    -0.144761       0.092073\n",
        "12-May -0.020116    -0.061014      -0.025608\n",
        "12-Jun  0.021033     0.100714      -0.058293\n",
        "12-Jul  0.118407     0.074963       0.059167\n",
        "12-Aug -0.072749     0.061931       0.006446\n",
        "12-Sep  0.001289    -0.073104       0.019163\n",
        "12-Oct  0.085036     0.103955      -0.109264\n",
        "12-Nov  0.029818     0.121433      -0.204098\n",
        "12-Dec  0.050269     0.056660       0.036314\n",
        "13-Jan -0.038319    -0.025752       0.158166\n",
        "\n",
        "[24 rows x 3 columns]"
       ]
      }
     ],
     "prompt_number": 24
    },
    {
     "cell_type": "code",
     "collapsed": false,
     "input": [
      "returns?"
     ],
     "language": "python",
     "metadata": {},
     "outputs": [],
     "prompt_number": 27
    },
    {
     "cell_type": "code",
     "collapsed": false,
     "input": [
      "returns.mean()"
     ],
     "language": "python",
     "metadata": {},
     "outputs": [
      {
       "metadata": {},
       "output_type": "pyout",
       "prompt_number": 26,
       "text": [
        "Benzene          0.006108\n",
        "Natural Gas     -0.009853\n",
        "Toluene Blend    0.011345\n",
        "dtype: float64"
       ]
      }
     ],
     "prompt_number": 26
    },
    {
     "cell_type": "code",
     "collapsed": false,
     "input": [
      "returns.std()"
     ],
     "language": "python",
     "metadata": {},
     "outputs": [
      {
       "metadata": {},
       "output_type": "pyout",
       "prompt_number": 29,
       "text": [
        "Benzene          0.073905\n",
        "Natural Gas      0.073862\n",
        "Toluene Blend    0.103191\n",
        "dtype: float64"
       ]
      }
     ],
     "prompt_number": 29
    },
    {
     "cell_type": "code",
     "collapsed": false,
     "input": [
      "s = returns[1:23]['Benzene']\n",
      "\n",
      "pandas.tools.plotting.autocorrelation_plot(s)"
     ],
     "language": "python",
     "metadata": {},
     "outputs": [
      {
       "metadata": {},
       "output_type": "pyout",
       "prompt_number": 55,
       "text": [
        "<matplotlib.axes.AxesSubplot at 0x10a4ecb10>"
       ]
      },
      {
       "metadata": {},
       "output_type": "display_data",
       "png": "[encoded data removed]",
       "text": [
        "<matplotlib.figure.Figure at 0x109ad0250>"
       ]
      }
     ],
     "prompt_number": 55
    },
    {
     "cell_type": "code",
     "collapsed": false,
     "input": [
      "type(s)"
     ],
     "language": "python",
     "metadata": {},
     "outputs": [
      {
       "metadata": {},
       "output_type": "pyout",
       "prompt_number": 44,
       "text": [
        "pandas.core.series.Series"
       ]
      }
     ],
     "prompt_number": 44
    },
    {
     "cell_type": "code",
     "collapsed": false,
     "input": [
      "size(returns)"
     ],
     "language": "python",
     "metadata": {},
     "outputs": [
      {
       "metadata": {},
       "output_type": "pyout",
       "prompt_number": 50,
       "text": [
        "72"
       ]
      }
     ],
     "prompt_number": 50
    },
    {
     "cell_type": "code",
     "collapsed": false,
     "input": [
      "len(s)"
     ],
     "language": "python",
     "metadata": {},
     "outputs": [
      {
       "metadata": {},
       "output_type": "pyout",
       "prompt_number": 52,
       "text": [
        "24"
       ]
      }
     ],
     "prompt_number": 52
    },
    {
     "cell_type": "code",
     "collapsed": false,
     "input": [],
     "language": "python",
     "metadata": {},
     "outputs": []
    }
   ],
   "metadata": {}
  }
 ]
}